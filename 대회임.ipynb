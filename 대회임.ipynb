{
  "nbformat": 4,
  "nbformat_minor": 0,
  "metadata": {
    "colab": {
      "private_outputs": true,
      "provenance": [],
      "gpuType": "T4",
      "include_colab_link": true
    },
    "kernelspec": {
      "name": "python3",
      "display_name": "Python 3"
    },
    "language_info": {
      "name": "python"
    },
    "accelerator": "GPU"
  },
  "cells": [
    {
      "cell_type": "markdown",
      "metadata": {
        "id": "view-in-github",
        "colab_type": "text"
      },
      "source": [
        "<a href=\"https://colab.research.google.com/github/tlsgptj/postech_data_challenge/blob/main/%EB%8C%80%ED%9A%8C%EC%9E%84.ipynb\" target=\"_parent\"><img src=\"https://colab.research.google.com/assets/colab-badge.svg\" alt=\"Open In Colab\"/></a>"
      ]
    },
    {
      "cell_type": "code",
      "source": [
        "import pandas as pd\n",
        "import numpy as np\n",
        "\n",
        "df1 = pd.read_csv(\"/content/기상실측데이터_1.csv\")\n",
        "df2 = pd.read_csv(\"/content/기상실측데이터_2.csv\")"
      ],
      "metadata": {
        "id": "P9OLK2y2vYUc"
      },
      "execution_count": null,
      "outputs": []
    },
    {
      "cell_type": "code",
      "source": [
        "df1.head()"
      ],
      "metadata": {
        "id": "8DED9atgv9bM"
      },
      "execution_count": null,
      "outputs": []
    },
    {
      "cell_type": "code",
      "source": [
        "df2.head()"
      ],
      "metadata": {
        "id": "e0c-K0PfwAvn"
      },
      "execution_count": null,
      "outputs": []
    },
    {
      "cell_type": "code",
      "source": [
        "import pandas as pd\n",
        "\n",
        "# 데이터프레임의 모든 object 타입 열을 int 타입으로 변환하는 함수\n",
        "def convert_object_to_int(df):\n",
        "    for col in df.select_dtypes(include=['object']).columns:\n",
        "        # pd.to_numeric으로 숫자로 변환 (변환할 수 없는 값은 NaN으로 처리)\n",
        "        df[col] = pd.to_numeric(df[col], errors='coerce')\n",
        "        # NaN 값을 0이나 다른 적절한 값으로 대체한 후 int로 변환\n",
        "        df[col] = df[col].fillna(0).astype(int)\n",
        "    return df\n",
        "\n",
        "# df1과 df2에 적용\n",
        "df1 = convert_object_to_int(df1)\n",
        "df2 = convert_object_to_int(df2)\n",
        "\n",
        "# 변환 후 결과 확인\n",
        "print(df1.dtypes)\n",
        "print(df2.dtypes)"
      ],
      "metadata": {
        "id": "oCTuAjazzh72"
      },
      "execution_count": null,
      "outputs": []
    },
    {
      "cell_type": "code",
      "source": [
        "df1.describe()"
      ],
      "metadata": {
        "id": "9SrTSx0FwEei"
      },
      "execution_count": null,
      "outputs": []
    },
    {
      "cell_type": "code",
      "source": [
        "df2.describe()"
      ],
      "metadata": {
        "id": "Xg_UxCYKwIPl"
      },
      "execution_count": null,
      "outputs": []
    },
    {
      "cell_type": "code",
      "source": [
        "df1 = df1.drop('location', axis=1)"
      ],
      "metadata": {
        "id": "nO5BfB5OwpXa"
      },
      "execution_count": null,
      "outputs": []
    },
    {
      "cell_type": "code",
      "source": [
        "df1 = df1.drop('ts', axis=1)"
      ],
      "metadata": {
        "id": "TqIJxWvMxFap"
      },
      "execution_count": null,
      "outputs": []
    },
    {
      "cell_type": "code",
      "source": [
        "df2 = df2.drop(['ts', 'location'], axis=1)"
      ],
      "metadata": {
        "id": "DjS3HLQgxK14"
      },
      "execution_count": null,
      "outputs": []
    },
    {
      "cell_type": "code",
      "source": [
        "df1.info()"
      ],
      "metadata": {
        "id": "52QsV6BwxbGi"
      },
      "execution_count": null,
      "outputs": []
    },
    {
      "cell_type": "code",
      "source": [
        "df2.info()"
      ],
      "metadata": {
        "id": "2u4CL6lR02sp"
      },
      "execution_count": null,
      "outputs": []
    },
    {
      "cell_type": "code",
      "source": [
        "import pandas as pd\n",
        "import seaborn as sns\n",
        "import matplotlib.pyplot as plt\n",
        "\n",
        "# Check if df2 contains any numeric columns before proceeding\n",
        "if len(df2.select_dtypes(include=['number']).columns) > 0:\n",
        "    # 숫자형으로 변환할 수 없는 컬럼 제외\n",
        "    numeric_df = df2.select_dtypes(include=['number'])\n",
        "\n",
        "    # 히트맵 그리기\n",
        "    plt.figure(figsize=(12, 10))  # 히트맵 크기 조절\n",
        "    sns.heatmap(numeric_df.corr(), annot=True, cmap='coolwarm', fmt=\".2f\")\n",
        "    plt.title('Correlation Heatmap')\n",
        "    plt.show()\n",
        "else:\n",
        "    print(\"df2 does not contain any numeric columns to create a correlation heatmap.\")"
      ],
      "metadata": {
        "id": "NrjVQMoLkFA0"
      },
      "execution_count": null,
      "outputs": []
    },
    {
      "cell_type": "code",
      "source": [
        "import pandas as pd\n",
        "import seaborn as sns\n",
        "import matplotlib.pyplot as plt\n",
        "\n",
        "if len(df1.select_dtypes(include=['number']).columns) > 0:\n",
        "    numeric_df = df2.select_dtypes(include=['number'])\n",
        "\n",
        "    plt.figure(figsize=(12, 10))\n",
        "    sns.heatmap(numeric_df.corr(), annot=True, cmap='coolwarm', fmt=\".2f\")\n",
        "    plt.title('Correlation Heatmap')\n",
        "    plt.show()\n",
        "else:\n",
        "    print(\"df2 does not contain any numeric columns to create a correlation heatmap.\")"
      ],
      "metadata": {
        "id": "mS7dV_Uhx8N_"
      },
      "execution_count": null,
      "outputs": []
    },
    {
      "cell_type": "code",
      "source": [
        "import matplotlib.pyplot as plt\n",
        "import seaborn as sns\n",
        "\n",
        "# temp와 temp_max 간의 산점도\n",
        "plt.figure(figsize=(8, 6))\n",
        "sns.scatterplot(data=df2, x='temp', y='temp_min')\n",
        "plt.title('Scatter Plot between temp and temp_max')\n",
        "plt.xlabel('temp')\n",
        "plt.ylabel('temp_max')\n",
        "plt.show()"
      ],
      "metadata": {
        "id": "BNs-qNpO0Lux"
      },
      "execution_count": null,
      "outputs": []
    },
    {
      "cell_type": "code",
      "source": [
        "# humidity의 히스토그램\n",
        "plt.figure(figsize=(8, 6))\n",
        "sns.histplot(df2['humidity'])\n",
        "plt.title('Humidity Distribution')\n",
        "plt.xlabel('Humidity')\n",
        "plt.ylabel('Frequency')\n",
        "plt.show()\n",
        "\n",
        "# wind_speed의 히스토그램\n",
        "plt.figure(figsize=(8, 6))\n",
        "sns.histplot(df2['wind_speed'])\n",
        "plt.title('Wind Speed Distribution')\n",
        "plt.xlabel('Wind Speed')\n",
        "plt.ylabel('Frequency')\n",
        "plt.show()"
      ],
      "metadata": {
        "id": "JalXLFLv0OLI"
      },
      "execution_count": null,
      "outputs": []
    },
    {
      "cell_type": "code",
      "source": [
        "# 주요 변수들만 선택하여 pairplot 생성\n",
        "selected_columns = ['temp', 'temp_max', 'temp_min', 'humidity', 'ground_press']\n",
        "sns.pairplot(df2[selected_columns])\n",
        "plt.suptitle('Pair Plot of Selected Variables', y=1.02)\n",
        "plt.show()"
      ],
      "metadata": {
        "id": "5nnyErSD0faE"
      },
      "execution_count": null,
      "outputs": []
    },
    {
      "cell_type": "markdown",
      "source": [
        "###가설 검증\n",
        "##기상 환경에 따라 신재생 발전량의 총합은 달라질 것이다. 총합에 따라 가격이 달라질 것이다. => TS를 기준으로 데이터 통합해보기\n"
      ],
      "metadata": {
        "id": "wjyZ77Y1AVoU"
      }
    },
    {
      "cell_type": "code",
      "source": [
        "import pandas as pd\n",
        "import matplotlib.pyplot as plt\n",
        "import numpy as np"
      ],
      "metadata": {
        "id": "NwdT6RA5ATtG"
      },
      "execution_count": null,
      "outputs": []
    },
    {
      "cell_type": "code",
      "source": [
        "real_1 = pd.read_csv(\"/content/기상실측데이터_1.csv\")\n",
        "real_2 = pd.read_csv(\"/content/기상실측데이터_2.csv\")\n",
        "pre_1 = pd.read_csv(\"/content/기상예측데이터_1.csv\")\n",
        "pre_2 = pd.read_csv(\"/content/기상예측데이터_2.csv\")\n",
        "electric_time = pd.read_csv(\"/content/제주전력시장_시장전기가격_실시간가격.csv\")\n",
        "electric_day = pd.read_csv(\"/content/제주전력시장_시장전기가격_하루전가격.csv\")\n",
        "preview = pd.read_csv(\"/content/제주전력시장_현황데이터.csv\")"
      ],
      "metadata": {
        "id": "gCoxcvkSLpTr"
      },
      "execution_count": null,
      "outputs": []
    },
    {
      "cell_type": "code",
      "source": [
        "real_1.info()"
      ],
      "metadata": {
        "id": "EIV6nXQRNMoP"
      },
      "execution_count": null,
      "outputs": []
    },
    {
      "cell_type": "code",
      "source": [
        "import pandas as pd\n",
        "\n",
        "def convert_object_to_int(real_1):\n",
        "    for col in real_1.select_dtypes(include=['object']).columns:\n",
        "        # pd.to_numeric으로 숫자로 변환 (변환할 수 없는 값은 NaN으로 처리)\n",
        "        real_1[col] = pd.to_numeric(real_1[col], errors='coerce')\n",
        "\n",
        "        # NaN 값을 0으로 채우고, float를 먼저 int로 변환 가능하도록 round 처리\n",
        "        real_1[col] = real_1[col].fillna(0).round().astype(int)\n",
        "\n",
        "    return real_1"
      ],
      "metadata": {
        "id": "2iw-MedXNdBU"
      },
      "execution_count": null,
      "outputs": []
    },
    {
      "cell_type": "code",
      "source": [
        "real_1.info()"
      ],
      "metadata": {
        "id": "SZaHVMFZPrgZ"
      },
      "execution_count": null,
      "outputs": []
    },
    {
      "cell_type": "code",
      "source": [
        "#object를 int로 다시 변환...\n",
        "def convert_object_to_int(real_2):\n",
        "    for col in real_2.select_dtypes(include=['object']).columns:\n",
        "        # pd.to_numeric으로 숫자로 변환 (변환할 수 없는 값은 NaN으로 처리)\n",
        "        real_2[col] = pd.to_numeric(real_2[col], errors='coerce')\n",
        "        # NaN 값을 0이나 다른 적절한 값으로 대체한 후 int로 변환\n",
        "        real_2[col] = real_2[col].fillna(0).astype(int)\n",
        "    return real_2"
      ],
      "metadata": {
        "id": "Sm3_FakINv07"
      },
      "execution_count": null,
      "outputs": []
    },
    {
      "cell_type": "code",
      "source": [
        "#object를 int로 다시 변환...\n",
        "def convert_object_to_int(pre_1):\n",
        "    for col in pre_1.select_dtypes(include=['object']).columns:\n",
        "        # pd.to_numeric으로 숫자로 변환 (변환할 수 없는 값은 NaN으로 처리)\n",
        "        pre_1[col] = pd.to_numeric(pre_1[col], errors='coerce')\n",
        "        # NaN 값을 0이나 다른 적절한 값으로 대체한 후 int로 변환\n",
        "        pre_1[col] = pre_1[col].fillna(0).astype(int)\n",
        "    return pre_1"
      ],
      "metadata": {
        "id": "pJ8aXu69OBoT"
      },
      "execution_count": null,
      "outputs": []
    },
    {
      "cell_type": "code",
      "source": [
        "#object를 int로 다시 변환...\n",
        "def convert_object_to_int(pre_2):\n",
        "    for col in pre_2.select_dtypes(include=['object']).columns:\n",
        "        # pd.to_numeric으로 숫자로 변환 (변환할 수 없는 값은 NaN으로 처리)\n",
        "        pre_2[col] = pd.to_numeric(pre_2[col], errors='coerce')\n",
        "        # NaN 값을 0이나 다른 적절한 값으로 대체한 후 int로 변환\n",
        "        pre_2[col] = pre_2[col].fillna(0).astype(int)\n",
        "    return pre_2"
      ],
      "metadata": {
        "id": "_7ZMjb93OMeZ"
      },
      "execution_count": null,
      "outputs": []
    },
    {
      "cell_type": "code",
      "source": [
        "#object를 int로 다시 변환...\n",
        "def convert_object_to_int(electric_time):\n",
        "    for col in electric_time.select_dtypes(include=['object']).columns:\n",
        "        # pd.to_numeric으로 숫자로 변환 (변환할 수 없는 값은 NaN으로 처리)\n",
        "        electric_time[col] = pd.to_numeric(electric_time[col], errors='coerce')\n",
        "        # NaN 값을 0이나 다른 적절한 값으로 대체한 후 int로 변환\n",
        "        electric_time[col] = electric_time[col].fillna(0).astype(int)\n",
        "    return electric_time"
      ],
      "metadata": {
        "id": "MmkR2w8pOY2v"
      },
      "execution_count": null,
      "outputs": []
    },
    {
      "cell_type": "code",
      "source": [
        "#object를 int로 다시 변환...\n",
        "def convert_object_to_int(electric_day):\n",
        "    for col in electric_day.select_dtypes(include=['object']).columns:\n",
        "        # pd.to_numeric으로 숫자로 변환 (변환할 수 없는 값은 NaN으로 처리)\n",
        "        electric_day[col] = pd.to_numeric(electric_day[col], errors='coerce')\n",
        "        # NaN 값을 0이나 다른 적절한 값으로 대체한 후 int로 변환\n",
        "        electric_day[col] = electric_day[col].fillna(0).astype(int)\n",
        "    return electric_day"
      ],
      "metadata": {
        "id": "rIsnS3psOjCQ"
      },
      "execution_count": null,
      "outputs": []
    },
    {
      "cell_type": "code",
      "source": [
        "#object를 int로 다시 변환...\n",
        "def convert_object_to_int(preview):\n",
        "    for col in preview.select_dtypes(include=['object']).columns:\n",
        "        # pd.to_numeric으로 숫자로 변환 (변환할 수 없는 값은 NaN으로 처리)\n",
        "        preview[col] = pd.to_numeric(preview[col], errors='coerce')\n",
        "        # NaN 값을 0이나 다른 적절한 값으로 대체한 후 int로 변환\n",
        "        preview[col] = preview[col].fillna(0).astype(int)\n",
        "    return preview"
      ],
      "metadata": {
        "id": "kwwhwPXkOv54"
      },
      "execution_count": null,
      "outputs": []
    },
    {
      "cell_type": "code",
      "source": [
        "real_1.info()\n",
        "real_2.info()\n",
        "pre_1.info()\n",
        "pre_2.info()\n",
        "electric_time.info()\n",
        "electric_day.info()\n",
        "preview.info()"
      ],
      "metadata": {
        "id": "xdJVFs7APPpG"
      },
      "execution_count": null,
      "outputs": []
    },
    {
      "cell_type": "code",
      "source": [
        "import matplotlib.pyplot as plt\n",
        "\n",
        "# 열 이름과 데이터 확인\n",
        "print(preview.columns)\n",
        "print(preview[['공급 예비력(kW)', '운영 예비력(kW)']].head())\n",
        "\n",
        "# 그래프 그리기\n",
        "plt.plot(preview['공급 예비력(kW)'], label='Supply Capacity')\n",
        "plt.plot(preview['운영 예비력(kW)'], label='Operation Capacity')\n",
        "plt.xlabel('Data Point')  # x축 레이블\n",
        "plt.ylabel('Capacity (kW)')\n",
        "plt.title('Supply and Operation Capacity Over Time')\n",
        "plt.legend()\n",
        "plt.show()\n"
      ],
      "metadata": {
        "id": "6pi7kByJLBuC"
      },
      "execution_count": null,
      "outputs": []
    },
    {
      "cell_type": "code",
      "source": [
        "import pandas as pd\n",
        "\n",
        "# 'ts' 열을 일치된 형식으로 변환 (int64)\n",
        "electric_time['ts'] = pd.to_numeric(electric_time['ts'], errors='coerce').astype('Int64')\n",
        "real_1['ts'] = pd.to_numeric(real_1['ts'], errors='coerce').astype('Int64')\n",
        "preview['ts'] = pd.to_numeric(preview['ts'], errors='coerce').astype('Int64')\n",
        "\n",
        "# 먼저 electric_time과 real_1을 병합한 후, preview와 병합\n",
        "merged_data = pd.merge(electric_time, real_1, on='ts', how='inner')\n",
        "merged_data = pd.merge(merged_data, preview[['ts', '신재생 발전량 총합(kW)']], on='ts', how='left')\n",
        "\n",
        "# 결과 확인\n",
        "print(merged_data.head())\n"
      ],
      "metadata": {
        "id": "txlse6M4WyNk"
      },
      "execution_count": null,
      "outputs": []
    },
    {
      "cell_type": "code",
      "source": [
        "print(merged_data.head())"
      ],
      "metadata": {
        "id": "nvsZQmqXXjW1"
      },
      "execution_count": null,
      "outputs": []
    },
    {
      "cell_type": "markdown",
      "source": [
        "###기상 조건이 신재생 에너지 발전량에 영향을 미치는가?\n"
      ],
      "metadata": {
        "id": "FyLHqa16XxEi"
      }
    },
    {
      "cell_type": "code",
      "source": [
        "import matplotlib.pyplot as plt\n",
        "\n",
        "plt.figure(figsize=(10, 6))\n",
        "#plt.bar(merged_data['temp'], merged_data['신재생 발전량 총합(kW)'], label='Temperature vs Renewable Energy', alpha=0.5)\n",
        "plt.scatter(merged_data['wind_spd'], merged_data['신재생 발전량 총합(kW)'], label='Wind Speed vs Renewable Energy', alpha=0.5, color='orange')\n",
        "plt.xlabel('Temperature / Wind Speed')\n",
        "plt.ylabel('Renewable Energy Total (kW)')\n",
        "plt.title('Impact of Temperature and Wind Speed on Renewable Energy Generation')\n",
        "plt.legend()\n",
        "plt.show()\n"
      ],
      "metadata": {
        "id": "ijcAxbyyXwMu"
      },
      "execution_count": null,
      "outputs": []
    },
    {
      "cell_type": "markdown",
      "source": [
        "###신재생 에너지 발전량이 전력 가격에 영향을 미치는가?\n"
      ],
      "metadata": {
        "id": "NMfzzPoNZKNS"
      }
    },
    {
      "cell_type": "code",
      "source": [
        "import matplotlib.pyplot as plt\n",
        "\n",
        "plt.figure(figsize=(10, 6))\n",
        "plt.scatter(merged_data['실시간 확정 가격(원/kWh)'], merged_data['신재생 발전량 총합(kW)'], label='Wind Speed vs Renewable Energy', alpha=0.5, color='orange')\n",
        "plt.xlabel('Temperature / Wind Speed')\n",
        "plt.ylabel('Renewable Energy Total (kW)')\n",
        "plt.title('Impact of Temperature and Wind Speed on Renewable Energy Generation')\n",
        "plt.legend()\n",
        "plt.show()"
      ],
      "metadata": {
        "id": "OutGESZ9ZJ8M"
      },
      "execution_count": null,
      "outputs": []
    },
    {
      "cell_type": "code",
      "source": [
        "print(merged_data[merged_data['실시간 확정 가격(원/kWh)'] < 0])"
      ],
      "metadata": {
        "id": "eokP2FFPZJZj"
      },
      "execution_count": null,
      "outputs": []
    },
    {
      "cell_type": "markdown",
      "source": [
        "###전력 수요가 극도로 낮고, 재생 에너지나 다른 에너지원의 공급이 과잉 상태\n"
      ],
      "metadata": {
        "id": "QXW-ynSqfgo_"
      }
    },
    {
      "cell_type": "markdown",
      "source": [
        "11/01 데이터 분석 및 결론 도출"
      ],
      "metadata": {
        "id": "PBYWpDThxd95"
      }
    },
    {
      "cell_type": "code",
      "source": [
        "import numpy as np\n",
        "import pandas as pd\n",
        "import matplotlib.pyplot as plt\n",
        "import seaborn as sns"
      ],
      "metadata": {
        "id": "fAy-uRq7xdqq"
      },
      "execution_count": null,
      "outputs": []
    },
    {
      "cell_type": "code",
      "source": [
        "df = pd.read_csv(\"/content/제주전력시장_현황데이터.csv\")\n",
        "df.head()"
      ],
      "metadata": {
        "id": "QW8OWgqTx7IC"
      },
      "execution_count": null,
      "outputs": []
    },
    {
      "cell_type": "code",
      "source": [
        "#공급능력 - 제주전력시장의 전체 공급 가능한 전력량\n",
        "#현재수요 - 제주전력시장의 현재 전력 수요\n",
        "#태양광 발전량 - 제주전력시장의 태양광 발전량\n",
        "#풍력 발전량 - 제주전력시장의 풍력 발전량\n",
        "#공급 예비력 - 제주 전력시장의 공급 능력에서 현재 수요를 뺀 나머지 여유 전력\n",
        "#운영 예비력 - 제주 전력시장의 실질적으로 사용할 수 있는 운영상의 예비 전력"
      ],
      "metadata": {
        "id": "zkK4ct_AyJj-"
      },
      "execution_count": null,
      "outputs": []
    },
    {
      "cell_type": "code",
      "source": [
        "we1 = pd.read_csv(\"/content/기상실측데이터_1.csv\")\n",
        "we1.head()"
      ],
      "metadata": {
        "id": "Z_lBVgMGyuzB"
      },
      "execution_count": null,
      "outputs": []
    },
    {
      "cell_type": "code",
      "source": [
        "we2 = pd.read_csv(\"/content/기상예측데이터_1.csv\")\n",
        "we2.head()"
      ],
      "metadata": {
        "id": "xakbcn4e6n3D"
      },
      "execution_count": null,
      "outputs": []
    },
    {
      "cell_type": "code",
      "source": [
        "pre1 = pd.read_csv(\"/content/제주전력시장_시장전기가격_실시간가격.csv\")\n",
        "pre1.head()"
      ],
      "metadata": {
        "id": "YZsjO2iezTdV"
      },
      "execution_count": null,
      "outputs": []
    },
    {
      "cell_type": "code",
      "source": [
        "import pandas as pd\n",
        "\n",
        "# Assuming 'we1' is your DataFrame\n",
        "\n",
        "# Check for and remove rows where 'ts' column has the value 'ts'\n",
        "we1 = we1[we1['ts'] != 'ts']\n",
        "\n",
        "# Convert the 'ts' column to datetime objects\n",
        "we1['ts'] = pd.to_datetime(we1['ts'], unit='s', errors='coerce')\n",
        "\n",
        "# Drop rows with NaT (Not a Time) values in the 'ts' column,\n",
        "# which might have been created due to errors in conversion\n",
        "we1.dropna(subset=['ts'], inplace=True)"
      ],
      "metadata": {
        "id": "XpcxwxChz7Ub"
      },
      "execution_count": null,
      "outputs": []
    },
    {
      "cell_type": "code",
      "source": [
        "we1.head()"
      ],
      "metadata": {
        "id": "HJ-eERpU00GI"
      },
      "execution_count": null,
      "outputs": []
    },
    {
      "cell_type": "code",
      "source": [
        "real = pd.read_csv(\"/content/제주전력시장_시장전기가격_하루전가격.csv\")"
      ],
      "metadata": {
        "id": "wJsjigIk1coy"
      },
      "execution_count": null,
      "outputs": []
    },
    {
      "cell_type": "code",
      "source": [
        "real.head()"
      ],
      "metadata": {
        "id": "pq2jcziw1nUo"
      },
      "execution_count": null,
      "outputs": []
    },
    {
      "cell_type": "markdown",
      "source": [
        "1. 제주전력시장의 실시간 전기가격과 하루전가격은 오차 보정모델 구축 할 수 있을 것 같음\n",
        "2. 실시간 기상 예측 데이터와 실시간 전기 가격 데이터를 활용해 실시간 모델을 구축\n",
        "3. 오차 보정 모델과 합쳐서 정확도 향상\n",
        "4. 최종 예측 가격 = 실시간 예측 모델 출력값 + 오차 보정 모델 출력값"
      ],
      "metadata": {
        "id": "oVxr4gHS2BKe"
      }
    },
    {
      "cell_type": "code",
      "source": [
        "from google.colab import drive\n",
        "import pandas as pd\n",
        "import glob"
      ],
      "metadata": {
        "id": "aFNEKEqb2AtH"
      },
      "execution_count": null,
      "outputs": []
    },
    {
      "cell_type": "markdown",
      "source": [
        "1. 실측 데이터에서 필요한 것들 : temp, rel_hum, wind_spd, uv_idx, cld_cvr\n",
        "2. 제주전력시장_시장전기가격_실시간가격에서 필요한 컬럼 : 실시간 확정 가격(원/kWh)\n",
        "3. 제주전력시장_현황데이터 : #공급능력 - 제주전력시장의 전체 공급 가능한 전력량\n",
        "현재수요 - 제주전력시장의 현재 전력 수요\n",
        "태양광 발전량 - 제주전력시장의 태양광 발전량\n",
        "풍력 발전량 - 제주전력시장의 풍력 발전량\n",
        "공급 예비력 - 제주 전력시장의 공급 능력에서 현재 수요를 뺀 나머지 여유 전력\n",
        "운영 예비력 - 제주 전력시장의 실질적으로 사용할 수 있는 운영상의 예비 전력\n"
      ],
      "metadata": {
        "id": "b8RhkGau4xtH"
      }
    },
    {
      "cell_type": "markdown",
      "source": [
        "[모델구축과정]\n",
        "1. 다음날의 기상을 예측하기 위해 : 기상예측+기상실측 비교 모델 구축\n",
        "2. 전기가격 모델 구축 만들어진 기상 예측 모델에 더하는 형식으로..?"
      ],
      "metadata": {
        "id": "oEjSIQuP5fPC"
      }
    },
    {
      "cell_type": "code",
      "source": [
        "#실측 데이터에서 필요한 것들 : temp, rel_hum, wind_spd, uv_idx, cld_cvr"
      ],
      "metadata": {
        "id": "qjUdgUIz3ttH"
      },
      "execution_count": null,
      "outputs": []
    },
    {
      "cell_type": "markdown",
      "source": [
        "# 기상 예측 모델 구축\n",
        "제외할 수 있는 변수 : 그늘 체감 온도, 돌풍 속도, 접근 온도, 가시거리, 천장 높이,기압, precip_1h (1시간 내 강수량), precip_prob (강수 확률), rain_prob (비 확률), snow_prob (눈 확률), ice_prob (얼음 확률), total_liq (총 강수량)\n",
        "다른 걸로 충분히 예측 가능함\n",
        "> 인용구 추가\n",
        "\n"
      ],
      "metadata": {
        "id": "HcAzRO2j6g4T"
      }
    },
    {
      "cell_type": "code",
      "source": [
        "we1 = we1.drop(columns=['location', 'real_feel_temp_shade', 'dew_point', 'wind_dir', 'wind_gust_spd', 'vis', 'ceiling', 'appr_temp', 'wind_chill_temp', 'wet_bulb_temp', 'precip_1h'])"
      ],
      "metadata": {
        "id": "Dph8Acqg6eq8"
      },
      "execution_count": null,
      "outputs": []
    },
    {
      "cell_type": "markdown",
      "source": [
        "필요없는 데이터 삭제"
      ],
      "metadata": {
        "id": "0-HTwVIN90W8"
      }
    },
    {
      "cell_type": "code",
      "source": [
        "we1.head()"
      ],
      "metadata": {
        "id": "SLhEzWQQ4M27"
      },
      "execution_count": null,
      "outputs": []
    },
    {
      "cell_type": "markdown",
      "source": [
        "LSTM 사용 기상 예측 데이터 모델 생성"
      ],
      "metadata": {
        "id": "fMgLBn-p_rI1"
      }
    },
    {
      "cell_type": "code",
      "source": [
        "import numpy as np\n",
        "from tensorflow.keras.models import Sequential\n",
        "from tensorflow.keras.layers import LSTM, Dense\n",
        "from sklearn.preprocessing import MinMaxScaler"
      ],
      "metadata": {
        "id": "asVefP9u_Wz0"
      },
      "execution_count": null,
      "outputs": []
    },
    {
      "cell_type": "code",
      "source": [
        "# 1. 데이터 준비\n",
        "data = we1[['temp', 'real_feel_temp', 'rel_hum', 'wind_spd', 'uv_idx', 'cld_cvr', 'pressure']]"
      ],
      "metadata": {
        "id": "cb3mYW55_4AP"
      },
      "execution_count": null,
      "outputs": []
    },
    {
      "cell_type": "code",
      "source": [
        "# 2. 데이터 전처리\n",
        "# 각 변수의 값을 [0, 1]로 스케일링\n",
        "scaler = MinMaxScaler()\n",
        "data_scaled = scaler.fit_transform(data)"
      ],
      "metadata": {
        "id": "vnjoMePi_942"
      },
      "execution_count": null,
      "outputs": []
    },
    {
      "cell_type": "code",
      "source": [
        "# 3. 시계열 데이터 생성\n",
        "# LSTM 입력을 위해 시퀀스 길이 설정 (예: 30일 데이터를 사용해 다음 날 예측)\n",
        "sequence_length = 30\n",
        "\n",
        "X = []\n",
        "y = []\n",
        "\n",
        "for i in range(sequence_length, len(data_scaled)):\n",
        "    X.append(data_scaled[i-sequence_length:i])  # sequence_length 만큼의 데이터로 입력 생성\n",
        "    y.append(data_scaled[i])  # 예측할 모든 기상 요소\n",
        "\n",
        "X, y = np.array(X), np.array(y)\n",
        "\n",
        "# 4. LSTM 모델 구성\n",
        "model = Sequential()\n",
        "model.add(LSTM(50, activation='relu', input_shape=(X.shape[1], X.shape[2])))\n",
        "model.add(Dense(X.shape[2]))  # 각 기상 요소를 예측하도록 Dense 출력 설정\n",
        "model.compile(optimizer='adam', loss='mse')"
      ],
      "metadata": {
        "id": "sltD-ymlAAxU"
      },
      "execution_count": null,
      "outputs": []
    },
    {
      "cell_type": "code",
      "source": [
        "# 5. 모델 학습\n",
        "model.fit(X, y, epochs=20, batch_size=32, verbose=1)"
      ],
      "metadata": {
        "id": "VWm1MsgTAHqm"
      },
      "execution_count": null,
      "outputs": []
    },
    {
      "cell_type": "code",
      "source": [
        "# 모델을 HDF5 파일 형식으로 저장\n",
        "model.save(\"weather_model.h5\")"
      ],
      "metadata": {
        "id": "kSWbNIkLBJeP"
      },
      "execution_count": null,
      "outputs": []
    },
    {
      "cell_type": "code",
      "source": [
        "import numpy as np\n",
        "from tensorflow.keras.models import load_model\n",
        "from sklearn.preprocessing import MinMaxScaler\n",
        "from sklearn.metrics import mean_absolute_error, mean_squared_error\n",
        "# Import the necessary loss function explicitly\n",
        "from tensorflow.keras.losses import MeanSquaredError\n",
        "\n",
        "# 1. 모델 로드\n",
        "# Load the model with custom_objects specifying the 'mse' loss\n",
        "model = load_model(\"weather_model.h5\", custom_objects={'mse': MeanSquaredError()})\n",
        "\n",
        "# 2. 테스트 데이터 준비\n",
        "# 'we1'에서 필요한 열만 추출하여 테스트용 실측 데이터를 준비합니다.\n",
        "# 예: 온도, 체감 온도, 상대 습도, 풍속, 자외선 지수, 구름량, 기압\n",
        "test_data = we1[['temp', 'real_feel_temp', 'rel_hum', 'wind_spd', 'uv_idx', 'cld_cvr', 'pressure']]\n",
        "\n",
        "# 3. 데이터 스케일링\n",
        "# 학습 시 사용한 MinMaxScaler와 동일한 방식으로 스케일링합니다.\n",
        "scaler = MinMaxScaler()\n",
        "test_data_scaled = scaler.fit_transform(test_data)\n",
        "\n",
        "# 4. 시계열 데이터 생성 (LSTM 입력 형식)\n",
        "# LSTM 입력에 맞게 시퀀스를 생성합니다. 예를 들어 30일 데이터를 사용하여 다음 날을 예측합니다.\n",
        "sequence_length = 30\n",
        "X_test = []\n",
        "y_test = []\n",
        "\n",
        "for i in range(sequence_length, len(test_data_scaled)):\n",
        "    X_test.append(test_data_scaled[i-sequence_length:i])  # 30일 시퀀스\n",
        "    y_test.append(test_data_scaled[i])  # 실제 다음 날 데이터\n",
        "\n",
        "X_test, y_test = np.array(X_test), np.array(y_test)\n",
        "\n",
        "# 5. 모델 예측\n",
        "# 로드된 모델을 사용하여 테스트 데이터에 대한 예측을 수행합니다.\n",
        "y_pred_scaled = model.predict(X_test)\n",
        "\n",
        "# 6. 스케일 복원\n",
        "# 예측 값과 실제 값을 원래 스케일로 되돌립니다.\n",
        "y_test_rescaled = scaler.inverse_transform(y_test)\n",
        "y_pred_rescaled = scaler.inverse_transform(y_pred_scaled)\n",
        "\n",
        "# 7. 오차 계산\n",
        "# MAE 및 RMSE를 사용해 모델의 예측 성능을 평가합니다.\n",
        "mae = mean_absolute_error(y_test_rescaled, y_pred_rescaled)\n",
        "rmse = np.sqrt(mean_squared_error(y_test_rescaled, y_pred_rescaled))\n",
        "\n",
        "print(f\"Mean Absolute Error (MAE): {mae}\")\n",
        "print(f\"Root Mean Squared Error (RMSE): {rmse}\")\n",
        "\n",
        "# 각 변수별로 오차 확인\n",
        "for i, col in enumerate(test_data.columns):\n",
        "    col_mae = mean_absolute_error(y_test_rescaled[:, i], y_pred_rescaled[:, i])\n",
        "    col_rmse = np.sqrt(mean_squared_error(y_test_rescaled[:, i], y_pred_rescaled[:, i]))\n",
        "    print(f\"{col} - MAE: {col_mae}, RMSE: {col_rmse}\")"
      ],
      "metadata": {
        "id": "wX2DLWTvB1XL"
      },
      "execution_count": null,
      "outputs": []
    },
    {
      "cell_type": "markdown",
      "source": [
        "Mean Absolute Error (MAE): 3.657884962639716\n",
        "Root Mean Squared Error (RMSE): 8.232695174703318\n",
        "temp - MAE: 0.8247750272470379, RMSE: 1.146867585465968\n",
        "real_feel_temp - MAE: 1.149866699682854, RMSE: 1.5624553258424076\n",
        "rel_hum - MAE: 4.931031174306191, RMSE: 6.692773044634691\n",
        "wind_spd - MAE: 2.742685768595669, RMSE: 4.000415478922464\n",
        "uv_idx - MAE: 0.5086974912857777, RMSE: 0.8665536835328982\n",
        "cld_cvr - MAE: 14.600891910577658, RMSE: 20.193307762616985\n",
        "pressure - MAE: 0.8472466667828337, RMSE: 1.1692682583590772\n",
        "\n",
        "-> 구름량과 상대습도, 풍속에서 오차가 높음"
      ],
      "metadata": {
        "id": "JvDk-VVnCero"
      }
    },
    {
      "cell_type": "markdown",
      "source": [
        "# 전기 가격 예측 모델"
      ],
      "metadata": {
        "id": "hAIyH2iICst-"
      }
    },
    {
      "cell_type": "code",
      "source": [
        "day = pd.read_csv(\"/content/제주전력시장_시장전기가격_하루전가격.csv\")\n",
        "day.head()"
      ],
      "metadata": {
        "id": "7iI5XhAsCr-f"
      },
      "execution_count": null,
      "outputs": []
    },
    {
      "cell_type": "code",
      "source": [
        "day = day.drop(columns = ['ts'])"
      ],
      "metadata": {
        "id": "_DLZxqw9EANn"
      },
      "execution_count": null,
      "outputs": []
    },
    {
      "cell_type": "code",
      "source": [
        "we1.info()\n",
        "pre1.info()"
      ],
      "metadata": {
        "id": "sjtWL1ySHdf-"
      },
      "execution_count": null,
      "outputs": []
    },
    {
      "cell_type": "code",
      "source": [
        "from xgboost import XGBRegressor\n",
        "from sklearn.metrics import mean_absolute_error, mean_squared_error\n",
        "\n",
        "# 시계열 데이터 생성 (24시간 전 데이터로 다음 전기 가격 예측)\n",
        "sequence_length = 24\n",
        "X_price = []\n",
        "y_price = []\n",
        "\n",
        "for i in range(sequence_length, len(pre1['실시간 확정 가격(원/kWh)'])):\n",
        "    X_price.append(pre1['실시간 확정 가격(원/kWh)'].values[i-sequence_length:i])\n",
        "    y_price.append(pre1['실시간 확정 가격(원/kWh)'].values[i])\n",
        "\n",
        "X_price, y_price = np.array(X_price), np.array(y_price)\n",
        "\n",
        "# 전기 가격 예측 모델\n",
        "model_price = XGBRegressor(n_estimators=100, learning_rate=0.1)\n",
        "model_price.fit(X_price, y_price)\n",
        "\n",
        "# 예측 및 평가\n",
        "y_pred = model_price.predict(X_price)\n",
        "mae = mean_absolute_error(y_price, y_pred)\n",
        "rmse = np.sqrt(mean_squared_error(y_price, y_pred))\n",
        "\n",
        "print(f\"Mean Absolute Error (MAE): {mae}\")\n",
        "print(f\"Root Mean Squared Error (RMSE): {rmse}\")\n"
      ],
      "metadata": {
        "id": "pyPdWlAyIGIN"
      },
      "execution_count": null,
      "outputs": []
    },
    {
      "cell_type": "code",
      "source": [
        "# Import the necessary library for saving the model\n",
        "import pickle\n",
        "\n",
        "# Save the model using pickle\n",
        "with open(\"predict_electric.pkl\", \"wb\") as f:\n",
        "    pickle.dump(model_price, f)"
      ],
      "metadata": {
        "id": "ZM0ozdyTIh_C"
      },
      "execution_count": null,
      "outputs": []
    },
    {
      "cell_type": "markdown",
      "source": [
        "# 전기가격 예측"
      ],
      "metadata": {
        "id": "fsYP9iVCJU_T"
      }
    },
    {
      "cell_type": "code",
      "source": [
        "import numpy as np\n",
        "import pandas as pd\n",
        "import tensorflow as tf\n",
        "import pickle\n",
        "from sklearn.preprocessing import MinMaxScaler"
      ],
      "metadata": {
        "id": "RmGbE02mJUMS"
      },
      "execution_count": null,
      "outputs": []
    },
    {
      "cell_type": "code",
      "source": [
        "#테스트코드임\n",
        "\n",
        "import numpy as np\n",
        "\n",
        "\n",
        "def calculate_measure(actual, forecast):\n",
        "    actual = np.array(actual)\n",
        "    forecast = np.array(forecast)\n",
        "\n",
        "    positive_index = actual > 0\n",
        "    negative_index = actual <= 0\n",
        "\n",
        "    # Number of positive and negative prices\n",
        "    n1 = np.sum(positive_index) + 1e-7\n",
        "    n2 = np.sum(negative_index) + 1e-7\n",
        "\n",
        "    # e1: Positive price forecast error rate\n",
        "    e1 = (\n",
        "        np.sum(\n",
        "            np.abs(actual[positive_index] - forecast[positive_index])\n",
        "            / np.abs(actual[positive_index])\n",
        "        )\n",
        "        / n1\n",
        "    )\n",
        "\n",
        "    # e2: Negative price prediction error rate\n",
        "    e2 = (\n",
        "        np.sum(\n",
        "            np.abs(actual[negative_index] - forecast[negative_index])\n",
        "            / np.abs(forecast[negative_index])\n",
        "        )\n",
        "        / n2\n",
        "    )\n",
        "\n",
        "    TP = np.sum((forecast > 0) & (actual > 0))\n",
        "    TN = np.sum((forecast <= 0) & (actual <= 0))\n",
        "    FP = np.sum((forecast > 0) & (actual <= 0))\n",
        "    FN = np.sum((forecast <= 0) & (actual > 0))\n",
        "\n",
        "    # Accuracy calculation\n",
        "    Accuracy = (TP + TN) / (TP + TN + FP + FN)\n",
        "    print(f'Accuracy: {Accuracy}')\n",
        "    print(f'e1: {e1}, e2: {e2}')\n",
        "\n",
        "    e_F = 0.2 * e1 + 0.8 * e2 - (Accuracy - 0.95)\n",
        "\n",
        "    return e_F"
      ],
      "metadata": {
        "id": "1XclD5JOScYu"
      },
      "execution_count": null,
      "outputs": []
    },
    {
      "cell_type": "code",
      "source": [
        "import numpy as np\n",
        "import tensorflow as tf\n",
        "import pickle\n",
        "import pandas as pd\n",
        "from sklearn.metrics import mean_absolute_error, mean_squared_error, r2_score\n",
        "\n",
        "# 1. 모델 불러오기\n",
        "weather_model = tf.keras.models.load_model(\"weather_model.h5\", compile=False)\n",
        "weather_model.compile(optimizer='adam', loss='mse')\n",
        "\n",
        "with open(\"price_model.pkl\", \"rb\") as file:\n",
        "    price_model = pickle.load(file)\n",
        "\n",
        "# 2. 기상 데이터 예측\n",
        "weather_data = we1[['temp', 'real_feel_temp', 'rel_hum', 'wind_spd', 'uv_idx', 'cld_cvr', 'pressure']].values.astype(np.float32)\n",
        "\n",
        "# 시계열 데이터 생성 (예: 30 타임스텝씩 묶기)\n",
        "sequence_length = 30\n",
        "X_weather = [weather_data[i: i + sequence_length] for i in range(len(weather_data) - sequence_length + 1)]\n",
        "X_weather = np.array(X_weather)\n",
        "\n",
        "# 모델 예측\n",
        "predicted_weather = weather_model.predict(X_weather)\n",
        "\n",
        "# 3. 전기 가격 예측\n",
        "# 실시간 데이터 (5분 간격) 로드 및 1시간 단위 변환\n",
        "price_data = pd.read_csv(\"/content/제주전력시장_시장전기가격_실시간가격.csv\")\n",
        "price_data_5min = price_data[['실시간 확정 가격(원/kWh)']].values.astype(np.float32)\n",
        "\n",
        "# 5분 간격 데이터를 1시간 단위로 변환하여 24개의 값 생성\n",
        "price_data_1hr = [np.mean(price_data_5min[i:i + 12]) for i in range(0, len(price_data_5min), 12)]\n",
        "price_data_1hr = np.array(price_data_1hr[:24])  # 24개의 값으로 설정\n",
        "\n",
        "# 전기 가격 예측 - 각 시간별로 반복하여 예측 수행\n",
        "predicted_price = []\n",
        "\n",
        "for i in range(24):\n",
        "    input_data = price_data_1hr.reshape(1, 24)  # (1, 24) 형태로 변환\n",
        "    predicted_value = price_model.predict(input_data)\n",
        "    # Access the predicted value directly using [0] instead of [0][0]\n",
        "    predicted_price.append(predicted_value[0])\n",
        "\n",
        "predicted_price = np.array(predicted_price)  # 24개의 예측 결과로 변환\n",
        "\n",
        "# 4. 실제 하루 동안의 전기 가격 데이터 준비\n",
        "actual_prices = pd.read_csv(\"/content/제주전력시장_시장전기가격_하루전가격.csv\")\n",
        "actual_prices = actual_prices[['하루전가격(원/kWh)']].values.astype(np.float32).flatten()[:24]  # 24개로 맞춤\n",
        "\n",
        "# 5. 예측 성능 평가\n",
        "# 하루 # 5. 예측 성능 평가\n",
        "# Calculate MAE, RMSE, and R-squared\n",
        "mae = mean_absolute_error(actual_prices, predicted_price)\n",
        "rmse = np.sqrt(mean_squared_error(actual_prices, predicted_price))\n",
        "r2 = r2_score(actual_prices, predicted_price)\n",
        "\n",
        "# Calculate MAPE\n",
        "# Note: We need to handle cases where actual price is 0 to avoid division by zero\n",
        "mape_numerator = np.abs(actual_prices - predicted_price)\n",
        "mape_denominator = np.abs(actual_prices)\n",
        "mape_denominator[mape_denominator == 0] = np.nan  # Replace 0 with NaN to avoid errors\n",
        "mape = np.nanmean(mape_numerator / mape_denominator) * 100\n",
        "\n",
        "# Print the evaluation metrics\n",
        "print(f\"MAE: {mae}\")\n",
        "print(f\"RMSE: {rmse}\")\n",
        "print(f\"MAPE: {mape:.2f}%\")\n",
        "print(f\"R-squared: {r2}\")\n"
      ],
      "metadata": {
        "id": "yGHhBAM0KVPP"
      },
      "execution_count": null,
      "outputs": []
    },
    {
      "cell_type": "markdown",
      "source": [
        "결과 해석\n",
        "MAE (Mean Absolute Error): 예측값과 실제값의 평균 절대 오차가 약 31.47원/kWh입니다. 이 값은 전반적으로 모델의 예측이 실제 가격과 평균적으로 31.47원 차이가 난다는 것을 의미합니다.\n",
        "\n",
        "RMSE (Root Mean Squared Error): 예측값과 실제값의 평균 제곱 오차의 제곱근으로, 50.77원/kWh로 나타났습니다. RMSE가 MAE보다 크므로 큰 오차가 있을 경우 더 크게 반영됨을 의미합니다.\n",
        "\n",
        "MAPE (Mean Absolute Percentage Error): MAPE는 예측 오차의 상대적인 크기를 보여줍니다. 7.94%라는 값은 약 8%의 오차율을 나타내므로, 비교적 합리적인 오차 범위 내에 있음을 의미합니다.\n",
        "\n",
        "R-squared (결정 계수): -0.1987로 0 이하이므로, 모델이 실제 데이터의 변동성을 설명하는 데 어려움이 있음을 나타냅니다. R-squared 값이 0 또는 음수라면, 모델이 무작위 평균값으로 예측하는 것보다 성능이 낮다는 의미가 될 수 있습니다."
      ],
      "metadata": {
        "id": "SmaOpxQBS6_Q"
      }
    },
    {
      "cell_type": "markdown",
      "source": [
        "MAE: 31.472082138061523\n",
        "RMSE: 50.7689323425293\n",
        "MAPE: 7.94%\n",
        "R-squared: -0.1986839771270752"
      ],
      "metadata": {
        "id": "I3GSuRx9SvqB"
      }
    },
    {
      "cell_type": "code",
      "source": [
        "print(\"Shape of predicted_price:\", predicted_price.shape)\n",
        "print(\"Shape of actual_prices:\", actual_prices.shape)"
      ],
      "metadata": {
        "id": "b693LZrGO7Qr"
      },
      "execution_count": null,
      "outputs": []
    },
    {
      "cell_type": "code",
      "source": [],
      "metadata": {
        "id": "XcRs1_QmLkz7"
      },
      "execution_count": null,
      "outputs": []
    }
  ]
}