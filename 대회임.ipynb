{
  "nbformat": 4,
  "nbformat_minor": 0,
  "metadata": {
    "colab": {
      "private_outputs": true,
      "provenance": [],
      "gpuType": "T4",
      "include_colab_link": true
    },
    "kernelspec": {
      "name": "python3",
      "display_name": "Python 3"
    },
    "language_info": {
      "name": "python"
    },
    "accelerator": "GPU"
  },
  "cells": [
    {
      "cell_type": "markdown",
      "metadata": {
        "id": "view-in-github",
        "colab_type": "text"
      },
      "source": [
        "<a href=\"https://colab.research.google.com/github/tlsgptj/postech_data_challenge/blob/main/%EB%8C%80%ED%9A%8C%EC%9E%84.ipynb\" target=\"_parent\"><img src=\"https://colab.research.google.com/assets/colab-badge.svg\" alt=\"Open In Colab\"/></a>"
      ]
    },
    {
      "cell_type": "code",
      "source": [
        "import pandas as pd\n",
        "import numpy as np\n",
        "\n",
        "df1 = pd.read_csv(\"/content/기상실측데이터_1.csv\")\n",
        "df2 = pd.read_csv(\"/content/기상실측데이터_2.csv\")"
      ],
      "metadata": {
        "id": "P9OLK2y2vYUc"
      },
      "execution_count": null,
      "outputs": []
    },
    {
      "cell_type": "code",
      "source": [
        "df1.head()"
      ],
      "metadata": {
        "id": "8DED9atgv9bM"
      },
      "execution_count": null,
      "outputs": []
    },
    {
      "cell_type": "code",
      "source": [
        "df2.head()"
      ],
      "metadata": {
        "id": "e0c-K0PfwAvn"
      },
      "execution_count": null,
      "outputs": []
    },
    {
      "cell_type": "code",
      "source": [
        "import pandas as pd\n",
        "\n",
        "# 데이터프레임의 모든 object 타입 열을 int 타입으로 변환하는 함수\n",
        "def convert_object_to_int(df):\n",
        "    for col in df.select_dtypes(include=['object']).columns:\n",
        "        # pd.to_numeric으로 숫자로 변환 (변환할 수 없는 값은 NaN으로 처리)\n",
        "        df[col] = pd.to_numeric(df[col], errors='coerce')\n",
        "        # NaN 값을 0이나 다른 적절한 값으로 대체한 후 int로 변환\n",
        "        df[col] = df[col].fillna(0).astype(int)\n",
        "    return df\n",
        "\n",
        "# df1과 df2에 적용\n",
        "df1 = convert_object_to_int(df1)\n",
        "df2 = convert_object_to_int(df2)\n",
        "\n",
        "# 변환 후 결과 확인\n",
        "print(df1.dtypes)\n",
        "print(df2.dtypes)"
      ],
      "metadata": {
        "id": "oCTuAjazzh72"
      },
      "execution_count": null,
      "outputs": []
    },
    {
      "cell_type": "code",
      "source": [
        "df1.describe()"
      ],
      "metadata": {
        "id": "9SrTSx0FwEei"
      },
      "execution_count": null,
      "outputs": []
    },
    {
      "cell_type": "code",
      "source": [
        "df2.describe()"
      ],
      "metadata": {
        "id": "Xg_UxCYKwIPl"
      },
      "execution_count": null,
      "outputs": []
    },
    {
      "cell_type": "code",
      "source": [
        "df1 = df1.drop('location', axis=1)"
      ],
      "metadata": {
        "id": "nO5BfB5OwpXa"
      },
      "execution_count": null,
      "outputs": []
    },
    {
      "cell_type": "code",
      "source": [
        "df1 = df1.drop('ts', axis=1)"
      ],
      "metadata": {
        "id": "TqIJxWvMxFap"
      },
      "execution_count": null,
      "outputs": []
    },
    {
      "cell_type": "code",
      "source": [
        "df2 = df2.drop(['ts', 'location'], axis=1)"
      ],
      "metadata": {
        "id": "DjS3HLQgxK14"
      },
      "execution_count": null,
      "outputs": []
    },
    {
      "cell_type": "code",
      "source": [
        "df1.info()"
      ],
      "metadata": {
        "id": "52QsV6BwxbGi"
      },
      "execution_count": null,
      "outputs": []
    },
    {
      "cell_type": "code",
      "source": [
        "df2.info()"
      ],
      "metadata": {
        "id": "2u4CL6lR02sp"
      },
      "execution_count": null,
      "outputs": []
    },
    {
      "cell_type": "code",
      "source": [
        "import pandas as pd\n",
        "import seaborn as sns\n",
        "import matplotlib.pyplot as plt\n",
        "\n",
        "# Check if df2 contains any numeric columns before proceeding\n",
        "if len(df2.select_dtypes(include=['number']).columns) > 0:\n",
        "    # 숫자형으로 변환할 수 없는 컬럼 제외\n",
        "    numeric_df = df2.select_dtypes(include=['number'])\n",
        "\n",
        "    # 히트맵 그리기\n",
        "    plt.figure(figsize=(12, 10))  # 히트맵 크기 조절\n",
        "    sns.heatmap(numeric_df.corr(), annot=True, cmap='coolwarm', fmt=\".2f\")\n",
        "    plt.title('Correlation Heatmap')\n",
        "    plt.show()\n",
        "else:\n",
        "    print(\"df2 does not contain any numeric columns to create a correlation heatmap.\")"
      ],
      "metadata": {
        "id": "NrjVQMoLkFA0"
      },
      "execution_count": null,
      "outputs": []
    },
    {
      "cell_type": "code",
      "source": [
        "import pandas as pd\n",
        "import seaborn as sns\n",
        "import matplotlib.pyplot as plt\n",
        "\n",
        "if len(df1.select_dtypes(include=['number']).columns) > 0:\n",
        "    numeric_df = df2.select_dtypes(include=['number'])\n",
        "\n",
        "    plt.figure(figsize=(12, 10))\n",
        "    sns.heatmap(numeric_df.corr(), annot=True, cmap='coolwarm', fmt=\".2f\")\n",
        "    plt.title('Correlation Heatmap')\n",
        "    plt.show()\n",
        "else:\n",
        "    print(\"df2 does not contain any numeric columns to create a correlation heatmap.\")"
      ],
      "metadata": {
        "id": "mS7dV_Uhx8N_"
      },
      "execution_count": null,
      "outputs": []
    },
    {
      "cell_type": "code",
      "source": [
        "import matplotlib.pyplot as plt\n",
        "import seaborn as sns\n",
        "\n",
        "# temp와 temp_max 간의 산점도\n",
        "plt.figure(figsize=(8, 6))\n",
        "sns.scatterplot(data=df2, x='temp', y='temp_min')\n",
        "plt.title('Scatter Plot between temp and temp_max')\n",
        "plt.xlabel('temp')\n",
        "plt.ylabel('temp_max')\n",
        "plt.show()"
      ],
      "metadata": {
        "id": "BNs-qNpO0Lux"
      },
      "execution_count": null,
      "outputs": []
    },
    {
      "cell_type": "code",
      "source": [
        "# humidity의 히스토그램\n",
        "plt.figure(figsize=(8, 6))\n",
        "sns.histplot(df2['humidity'])\n",
        "plt.title('Humidity Distribution')\n",
        "plt.xlabel('Humidity')\n",
        "plt.ylabel('Frequency')\n",
        "plt.show()\n",
        "\n",
        "# wind_speed의 히스토그램\n",
        "plt.figure(figsize=(8, 6))\n",
        "sns.histplot(df2['wind_speed'])\n",
        "plt.title('Wind Speed Distribution')\n",
        "plt.xlabel('Wind Speed')\n",
        "plt.ylabel('Frequency')\n",
        "plt.show()"
      ],
      "metadata": {
        "id": "JalXLFLv0OLI"
      },
      "execution_count": null,
      "outputs": []
    },
    {
      "cell_type": "code",
      "source": [
        "# 주요 변수들만 선택하여 pairplot 생성\n",
        "selected_columns = ['temp', 'temp_max', 'temp_min', 'humidity', 'ground_press']\n",
        "sns.pairplot(df2[selected_columns])\n",
        "plt.suptitle('Pair Plot of Selected Variables', y=1.02)\n",
        "plt.show()"
      ],
      "metadata": {
        "id": "5nnyErSD0faE"
      },
      "execution_count": null,
      "outputs": []
    },
    {
      "cell_type": "markdown",
      "source": [
        "###가설 검증\n",
        "##기상 환경에 따라 신재생 발전량의 총합은 달라질 것이다. 총합에 따라 가격이 달라질 것이다. => TS를 기준으로 데이터 통합해보기\n"
      ],
      "metadata": {
        "id": "wjyZ77Y1AVoU"
      }
    },
    {
      "cell_type": "code",
      "source": [
        "import pandas as pd\n",
        "import matplotlib.pyplot as plt\n",
        "import numpy as np"
      ],
      "metadata": {
        "id": "NwdT6RA5ATtG"
      },
      "execution_count": null,
      "outputs": []
    },
    {
      "cell_type": "code",
      "source": [
        "real_1 = pd.read_csv(\"/content/기상실측데이터_1.csv\")\n",
        "real_2 = pd.read_csv(\"/content/기상실측데이터_2.csv\")\n",
        "pre_1 = pd.read_csv(\"/content/기상예측데이터_1.csv\")\n",
        "pre_2 = pd.read_csv(\"/content/기상예측데이터_2.csv\")\n",
        "electric_time = pd.read_csv(\"/content/제주전력시장_시장전기가격_실시간가격.csv\")\n",
        "electric_day = pd.read_csv(\"/content/제주전력시장_시장전기가격_하루전가격.csv\")\n",
        "preview = pd.read_csv(\"/content/제주전력시장_현황데이터.csv\")"
      ],
      "metadata": {
        "id": "gCoxcvkSLpTr"
      },
      "execution_count": null,
      "outputs": []
    },
    {
      "cell_type": "code",
      "source": [
        "real_1.info()"
      ],
      "metadata": {
        "id": "EIV6nXQRNMoP"
      },
      "execution_count": null,
      "outputs": []
    },
    {
      "cell_type": "code",
      "source": [
        "import pandas as pd\n",
        "\n",
        "def convert_object_to_int(real_1):\n",
        "    for col in real_1.select_dtypes(include=['object']).columns:\n",
        "        # pd.to_numeric으로 숫자로 변환 (변환할 수 없는 값은 NaN으로 처리)\n",
        "        real_1[col] = pd.to_numeric(real_1[col], errors='coerce')\n",
        "\n",
        "        # NaN 값을 0으로 채우고, float를 먼저 int로 변환 가능하도록 round 처리\n",
        "        real_1[col] = real_1[col].fillna(0).round().astype(int)\n",
        "\n",
        "    return real_1"
      ],
      "metadata": {
        "id": "2iw-MedXNdBU"
      },
      "execution_count": null,
      "outputs": []
    },
    {
      "cell_type": "code",
      "source": [
        "real_1.info()"
      ],
      "metadata": {
        "id": "SZaHVMFZPrgZ"
      },
      "execution_count": null,
      "outputs": []
    },
    {
      "cell_type": "code",
      "source": [
        "#object를 int로 다시 변환...\n",
        "def convert_object_to_int(real_2):\n",
        "    for col in real_2.select_dtypes(include=['object']).columns:\n",
        "        # pd.to_numeric으로 숫자로 변환 (변환할 수 없는 값은 NaN으로 처리)\n",
        "        real_2[col] = pd.to_numeric(real_2[col], errors='coerce')\n",
        "        # NaN 값을 0이나 다른 적절한 값으로 대체한 후 int로 변환\n",
        "        real_2[col] = real_2[col].fillna(0).astype(int)\n",
        "    return real_2"
      ],
      "metadata": {
        "id": "Sm3_FakINv07"
      },
      "execution_count": null,
      "outputs": []
    },
    {
      "cell_type": "code",
      "source": [
        "#object를 int로 다시 변환...\n",
        "def convert_object_to_int(pre_1):\n",
        "    for col in pre_1.select_dtypes(include=['object']).columns:\n",
        "        # pd.to_numeric으로 숫자로 변환 (변환할 수 없는 값은 NaN으로 처리)\n",
        "        pre_1[col] = pd.to_numeric(pre_1[col], errors='coerce')\n",
        "        # NaN 값을 0이나 다른 적절한 값으로 대체한 후 int로 변환\n",
        "        pre_1[col] = pre_1[col].fillna(0).astype(int)\n",
        "    return pre_1"
      ],
      "metadata": {
        "id": "pJ8aXu69OBoT"
      },
      "execution_count": null,
      "outputs": []
    },
    {
      "cell_type": "code",
      "source": [
        "#object를 int로 다시 변환...\n",
        "def convert_object_to_int(pre_2):\n",
        "    for col in pre_2.select_dtypes(include=['object']).columns:\n",
        "        # pd.to_numeric으로 숫자로 변환 (변환할 수 없는 값은 NaN으로 처리)\n",
        "        pre_2[col] = pd.to_numeric(pre_2[col], errors='coerce')\n",
        "        # NaN 값을 0이나 다른 적절한 값으로 대체한 후 int로 변환\n",
        "        pre_2[col] = pre_2[col].fillna(0).astype(int)\n",
        "    return pre_2"
      ],
      "metadata": {
        "id": "_7ZMjb93OMeZ"
      },
      "execution_count": null,
      "outputs": []
    },
    {
      "cell_type": "code",
      "source": [
        "#object를 int로 다시 변환...\n",
        "def convert_object_to_int(electric_time):\n",
        "    for col in electric_time.select_dtypes(include=['object']).columns:\n",
        "        # pd.to_numeric으로 숫자로 변환 (변환할 수 없는 값은 NaN으로 처리)\n",
        "        electric_time[col] = pd.to_numeric(electric_time[col], errors='coerce')\n",
        "        # NaN 값을 0이나 다른 적절한 값으로 대체한 후 int로 변환\n",
        "        electric_time[col] = electric_time[col].fillna(0).astype(int)\n",
        "    return electric_time"
      ],
      "metadata": {
        "id": "MmkR2w8pOY2v"
      },
      "execution_count": null,
      "outputs": []
    },
    {
      "cell_type": "code",
      "source": [
        "#object를 int로 다시 변환...\n",
        "def convert_object_to_int(electric_day):\n",
        "    for col in electric_day.select_dtypes(include=['object']).columns:\n",
        "        # pd.to_numeric으로 숫자로 변환 (변환할 수 없는 값은 NaN으로 처리)\n",
        "        electric_day[col] = pd.to_numeric(electric_day[col], errors='coerce')\n",
        "        # NaN 값을 0이나 다른 적절한 값으로 대체한 후 int로 변환\n",
        "        electric_day[col] = electric_day[col].fillna(0).astype(int)\n",
        "    return electric_day"
      ],
      "metadata": {
        "id": "rIsnS3psOjCQ"
      },
      "execution_count": null,
      "outputs": []
    },
    {
      "cell_type": "code",
      "source": [
        "#object를 int로 다시 변환...\n",
        "def convert_object_to_int(preview):\n",
        "    for col in preview.select_dtypes(include=['object']).columns:\n",
        "        # pd.to_numeric으로 숫자로 변환 (변환할 수 없는 값은 NaN으로 처리)\n",
        "        preview[col] = pd.to_numeric(preview[col], errors='coerce')\n",
        "        # NaN 값을 0이나 다른 적절한 값으로 대체한 후 int로 변환\n",
        "        preview[col] = preview[col].fillna(0).astype(int)\n",
        "    return preview"
      ],
      "metadata": {
        "id": "kwwhwPXkOv54"
      },
      "execution_count": null,
      "outputs": []
    },
    {
      "cell_type": "code",
      "source": [
        "real_1.info()\n",
        "real_2.info()\n",
        "pre_1.info()\n",
        "pre_2.info()\n",
        "electric_time.info()\n",
        "electric_day.info()\n",
        "preview.info()"
      ],
      "metadata": {
        "id": "xdJVFs7APPpG"
      },
      "execution_count": null,
      "outputs": []
    },
    {
      "cell_type": "code",
      "source": [
        "import matplotlib.pyplot as plt\n",
        "\n",
        "# 열 이름과 데이터 확인\n",
        "print(preview.columns)\n",
        "print(preview[['공급 예비력(kW)', '운영 예비력(kW)']].head())\n",
        "\n",
        "# 그래프 그리기\n",
        "plt.plot(preview['공급 예비력(kW)'], label='Supply Capacity')\n",
        "plt.plot(preview['운영 예비력(kW)'], label='Operation Capacity')\n",
        "plt.xlabel('Data Point')  # x축 레이블\n",
        "plt.ylabel('Capacity (kW)')\n",
        "plt.title('Supply and Operation Capacity Over Time')\n",
        "plt.legend()\n",
        "plt.show()\n"
      ],
      "metadata": {
        "id": "6pi7kByJLBuC"
      },
      "execution_count": null,
      "outputs": []
    },
    {
      "cell_type": "code",
      "source": [
        "import pandas as pd\n",
        "\n",
        "# 'ts' 열을 일치된 형식으로 변환 (int64)\n",
        "electric_time['ts'] = pd.to_numeric(electric_time['ts'], errors='coerce').astype('Int64')\n",
        "real_1['ts'] = pd.to_numeric(real_1['ts'], errors='coerce').astype('Int64')\n",
        "preview['ts'] = pd.to_numeric(preview['ts'], errors='coerce').astype('Int64')\n",
        "\n",
        "# 먼저 electric_time과 real_1을 병합한 후, preview와 병합\n",
        "merged_data = pd.merge(electric_time, real_1, on='ts', how='inner')\n",
        "merged_data = pd.merge(merged_data, preview[['ts', '신재생 발전량 총합(kW)']], on='ts', how='left')\n",
        "\n",
        "# 결과 확인\n",
        "print(merged_data.head())\n"
      ],
      "metadata": {
        "id": "txlse6M4WyNk"
      },
      "execution_count": null,
      "outputs": []
    },
    {
      "cell_type": "code",
      "source": [
        "print(merged_data.head())"
      ],
      "metadata": {
        "id": "nvsZQmqXXjW1"
      },
      "execution_count": null,
      "outputs": []
    },
    {
      "cell_type": "markdown",
      "source": [
        "###기상 조건이 신재생 에너지 발전량에 영향을 미치는가?\n"
      ],
      "metadata": {
        "id": "FyLHqa16XxEi"
      }
    },
    {
      "cell_type": "code",
      "source": [
        "import matplotlib.pyplot as plt\n",
        "\n",
        "plt.figure(figsize=(10, 6))\n",
        "#plt.bar(merged_data['temp'], merged_data['신재생 발전량 총합(kW)'], label='Temperature vs Renewable Energy', alpha=0.5)\n",
        "plt.scatter(merged_data['wind_spd'], merged_data['신재생 발전량 총합(kW)'], label='Wind Speed vs Renewable Energy', alpha=0.5, color='orange')\n",
        "plt.xlabel('Temperature / Wind Speed')\n",
        "plt.ylabel('Renewable Energy Total (kW)')\n",
        "plt.title('Impact of Temperature and Wind Speed on Renewable Energy Generation')\n",
        "plt.legend()\n",
        "plt.show()\n"
      ],
      "metadata": {
        "id": "ijcAxbyyXwMu"
      },
      "execution_count": null,
      "outputs": []
    },
    {
      "cell_type": "markdown",
      "source": [
        "###신재생 에너지 발전량이 전력 가격에 영향을 미치는가?\n"
      ],
      "metadata": {
        "id": "NMfzzPoNZKNS"
      }
    },
    {
      "cell_type": "code",
      "source": [
        "import matplotlib.pyplot as plt\n",
        "\n",
        "plt.figure(figsize=(10, 6))\n",
        "plt.scatter(merged_data['실시간 확정 가격(원/kWh)'], merged_data['신재생 발전량 총합(kW)'], label='Wind Speed vs Renewable Energy', alpha=0.5, color='orange')\n",
        "plt.xlabel('Temperature / Wind Speed')\n",
        "plt.ylabel('Renewable Energy Total (kW)')\n",
        "plt.title('Impact of Temperature and Wind Speed on Renewable Energy Generation')\n",
        "plt.legend()\n",
        "plt.show()"
      ],
      "metadata": {
        "id": "OutGESZ9ZJ8M"
      },
      "execution_count": null,
      "outputs": []
    },
    {
      "cell_type": "code",
      "source": [
        "print(merged_data[merged_data['실시간 확정 가격(원/kWh)'] < 0])"
      ],
      "metadata": {
        "id": "eokP2FFPZJZj"
      },
      "execution_count": null,
      "outputs": []
    },
    {
      "cell_type": "markdown",
      "source": [
        "###전력 수요가 극도로 낮고, 재생 에너지나 다른 에너지원의 공급이 과잉 상태\n"
      ],
      "metadata": {
        "id": "QXW-ynSqfgo_"
      }
    },
    {
      "cell_type": "markdown",
      "source": [
        "11/01 데이터 분석 및 결론 도출"
      ],
      "metadata": {
        "id": "PBYWpDThxd95"
      }
    },
    {
      "cell_type": "code",
      "source": [
        "import numpy as np\n",
        "import pandas as pd\n",
        "import matplotlib.pyplot as plt\n",
        "import seaborn as sns"
      ],
      "metadata": {
        "id": "fAy-uRq7xdqq"
      },
      "execution_count": null,
      "outputs": []
    },
    {
      "cell_type": "code",
      "source": [
        "df = pd.read_csv(\"/content/제주전력시장_현황데이터.csv\")\n",
        "df.head()"
      ],
      "metadata": {
        "id": "QW8OWgqTx7IC"
      },
      "execution_count": null,
      "outputs": []
    },
    {
      "cell_type": "code",
      "source": [
        "#공급능력 - 제주전력시장의 전체 공급 가능한 전력량\n",
        "#현재수요 - 제주전력시장의 현재 전력 수요\n",
        "#태양광 발전량 - 제주전력시장의 태양광 발전량\n",
        "#풍력 발전량 - 제주전력시장의 풍력 발전량\n",
        "#공급 예비력 - 제주 전력시장의 공급 능력에서 현재 수요를 뺀 나머지 여유 전력\n",
        "#운영 예비력 - 제주 전력시장의 실질적으로 사용할 수 있는 운영상의 예비 전력"
      ],
      "metadata": {
        "id": "zkK4ct_AyJj-"
      },
      "execution_count": null,
      "outputs": []
    },
    {
      "cell_type": "code",
      "source": [
        "we1 = pd.read_csv(\"/content/기상실측데이터_1.csv\")\n",
        "we1.head()"
      ],
      "metadata": {
        "id": "Z_lBVgMGyuzB"
      },
      "execution_count": null,
      "outputs": []
    },
    {
      "cell_type": "code",
      "source": [
        "we2 = pd.read_csv(\"/content/기상예측데이터_1.csv\")\n",
        "we2.head()"
      ],
      "metadata": {
        "id": "xakbcn4e6n3D"
      },
      "execution_count": null,
      "outputs": []
    },
    {
      "cell_type": "code",
      "source": [
        "pre1 = pd.read_csv(\"/content/제주전력시장_시장전기가격_실시간가격.csv\")\n",
        "pre1.head()"
      ],
      "metadata": {
        "id": "YZsjO2iezTdV"
      },
      "execution_count": null,
      "outputs": []
    },
    {
      "cell_type": "code",
      "source": [
        "import pandas as pd\n",
        "\n",
        "# Assuming 'we1' is your DataFrame\n",
        "\n",
        "# Check for and remove rows where 'ts' column has the value 'ts'\n",
        "we1 = we1[we1['ts'] != 'ts']\n",
        "\n",
        "# Convert the 'ts' column to datetime objects\n",
        "we1['ts'] = pd.to_datetime(we1['ts'], unit='s', errors='coerce')\n",
        "\n",
        "# Drop rows with NaT (Not a Time) values in the 'ts' column,\n",
        "# which might have been created due to errors in conversion\n",
        "we1.dropna(subset=['ts'], inplace=True)"
      ],
      "metadata": {
        "id": "XpcxwxChz7Ub"
      },
      "execution_count": null,
      "outputs": []
    },
    {
      "cell_type": "code",
      "source": [
        "we1.head()"
      ],
      "metadata": {
        "id": "HJ-eERpU00GI"
      },
      "execution_count": null,
      "outputs": []
    },
    {
      "cell_type": "code",
      "source": [
        "real = pd.read_csv(\"/content/제주전력시장_시장전기가격_하루전가격.csv\")"
      ],
      "metadata": {
        "id": "wJsjigIk1coy"
      },
      "execution_count": null,
      "outputs": []
    },
    {
      "cell_type": "code",
      "source": [
        "real.head()"
      ],
      "metadata": {
        "id": "pq2jcziw1nUo"
      },
      "execution_count": null,
      "outputs": []
    },
    {
      "cell_type": "markdown",
      "source": [
        "1. 제주전력시장의 실시간 전기가격과 하루전가격은 오차 보정모델 구축 할 수 있을 것 같음\n",
        "2. 실시간 기상 예측 데이터와 실시간 전기 가격 데이터를 활용해 실시간 모델을 구축\n",
        "3. 오차 보정 모델과 합쳐서 정확도 향상\n",
        "4. 최종 예측 가격 = 실시간 예측 모델 출력값 + 오차 보정 모델 출력값"
      ],
      "metadata": {
        "id": "oVxr4gHS2BKe"
      }
    },
    {
      "cell_type": "code",
      "source": [
        "from google.colab import drive\n",
        "import pandas as pd\n",
        "import glob"
      ],
      "metadata": {
        "id": "aFNEKEqb2AtH"
      },
      "execution_count": null,
      "outputs": []
    },
    {
      "cell_type": "markdown",
      "source": [
        "1. 실측 데이터에서 필요한 것들 : temp, rel_hum, wind_spd, uv_idx, cld_cvr\n",
        "2. 제주전력시장_시장전기가격_실시간가격에서 필요한 컬럼 : 실시간 확정 가격(원/kWh)\n",
        "3. 제주전력시장_현황데이터 : #공급능력 - 제주전력시장의 전체 공급 가능한 전력량\n",
        "현재수요 - 제주전력시장의 현재 전력 수요\n",
        "태양광 발전량 - 제주전력시장의 태양광 발전량\n",
        "풍력 발전량 - 제주전력시장의 풍력 발전량\n",
        "공급 예비력 - 제주 전력시장의 공급 능력에서 현재 수요를 뺀 나머지 여유 전력\n",
        "운영 예비력 - 제주 전력시장의 실질적으로 사용할 수 있는 운영상의 예비 전력\n"
      ],
      "metadata": {
        "id": "b8RhkGau4xtH"
      }
    },
    {
      "cell_type": "markdown",
      "source": [
        "[모델구축과정]\n",
        "1. 다음날의 기상을 예측하기 위해 : 기상예측+기상실측 비교 모델 구축\n",
        "2. 전기가격 모델 구축 만들어진 기상 예측 모델에 더하는 형식으로..?"
      ],
      "metadata": {
        "id": "oEjSIQuP5fPC"
      }
    },
    {
      "cell_type": "code",
      "source": [
        "#실측 데이터에서 필요한 것들 : temp, rel_hum, wind_spd, uv_idx, cld_cvr"
      ],
      "metadata": {
        "id": "qjUdgUIz3ttH"
      },
      "execution_count": null,
      "outputs": []
    },
    {
      "cell_type": "markdown",
      "source": [
        "# 기상 예측 모델 구축\n",
        "제외할 수 있는 변수 : 그늘 체감 온도, 돌풍 속도, 접근 온도, 가시거리, 천장 높이,기압, precip_1h (1시간 내 강수량), precip_prob (강수 확률), rain_prob (비 확률), snow_prob (눈 확률), ice_prob (얼음 확률), total_liq (총 강수량)\n",
        "다른 걸로 충분히 예측 가능함\n",
        "> 인용구 추가\n",
        "\n"
      ],
      "metadata": {
        "id": "HcAzRO2j6g4T"
      }
    },
    {
      "cell_type": "code",
      "source": [
        "we1 = we1.drop(columns=['location', 'real_feel_temp_shade', 'dew_point', 'wind_dir', 'wind_gust_spd', 'vis', 'ceiling', 'appr_temp', 'wind_chill_temp', 'wet_bulb_temp', 'precip_1h'])"
      ],
      "metadata": {
        "id": "Dph8Acqg6eq8"
      },
      "execution_count": null,
      "outputs": []
    },
    {
      "cell_type": "markdown",
      "source": [
        "필요없는 데이터 삭제"
      ],
      "metadata": {
        "id": "0-HTwVIN90W8"
      }
    },
    {
      "cell_type": "code",
      "source": [
        "we1.head()"
      ],
      "metadata": {
        "id": "SLhEzWQQ4M27"
      },
      "execution_count": null,
      "outputs": []
    },
    {
      "cell_type": "markdown",
      "source": [
        "LSTM 사용 기상 예측 데이터 모델 생성"
      ],
      "metadata": {
        "id": "fMgLBn-p_rI1"
      }
    },
    {
      "cell_type": "code",
      "source": [
        "import numpy as np\n",
        "from tensorflow.keras.models import Sequential\n",
        "from tensorflow.keras.layers import LSTM, Dense\n",
        "from sklearn.preprocessing import MinMaxScaler"
      ],
      "metadata": {
        "id": "asVefP9u_Wz0"
      },
      "execution_count": null,
      "outputs": []
    },
    {
      "cell_type": "code",
      "source": [
        "# 1. 데이터 준비\n",
        "data = we1[['temp', 'real_feel_temp', 'rel_hum', 'wind_spd', 'uv_idx', 'cld_cvr', 'pressure']]"
      ],
      "metadata": {
        "id": "cb3mYW55_4AP"
      },
      "execution_count": null,
      "outputs": []
    },
    {
      "cell_type": "code",
      "source": [
        "# 2. 데이터 전처리\n",
        "# 각 변수의 값을 [0, 1]로 스케일링\n",
        "scaler = MinMaxScaler()\n",
        "data_scaled = scaler.fit_transform(data)"
      ],
      "metadata": {
        "id": "vnjoMePi_942"
      },
      "execution_count": null,
      "outputs": []
    },
    {
      "cell_type": "code",
      "source": [
        "# 3. 시계열 데이터 생성\n",
        "# LSTM 입력을 위해 시퀀스 길이 설정 (예: 30일 데이터를 사용해 다음 날 예측)\n",
        "sequence_length = 30\n",
        "\n",
        "X = []\n",
        "y = []\n",
        "\n",
        "for i in range(sequence_length, len(data_scaled)):\n",
        "    X.append(data_scaled[i-sequence_length:i])  # sequence_length 만큼의 데이터로 입력 생성\n",
        "    y.append(data_scaled[i])  # 예측할 모든 기상 요소\n",
        "\n",
        "X, y = np.array(X), np.array(y)\n",
        "\n",
        "# 4. LSTM 모델 구성\n",
        "model = Sequential()\n",
        "model.add(LSTM(50, activation='relu', input_shape=(X.shape[1], X.shape[2])))\n",
        "model.add(Dense(X.shape[2]))  # 각 기상 요소를 예측하도록 Dense 출력 설정\n",
        "model.compile(optimizer='adam', loss='mse')"
      ],
      "metadata": {
        "id": "sltD-ymlAAxU"
      },
      "execution_count": null,
      "outputs": []
    },
    {
      "cell_type": "code",
      "source": [
        "# 5. 모델 학습\n",
        "model.fit(X, y, epochs=20, batch_size=32, verbose=1)"
      ],
      "metadata": {
        "id": "VWm1MsgTAHqm"
      },
      "execution_count": null,
      "outputs": []
    },
    {
      "cell_type": "code",
      "source": [
        "# 모델을 HDF5 파일 형식으로 저장\n",
        "model.save(\"weather_model.h5\")"
      ],
      "metadata": {
        "id": "kSWbNIkLBJeP"
      },
      "execution_count": null,
      "outputs": []
    },
    {
      "cell_type": "code",
      "source": [
        "import numpy as np\n",
        "from tensorflow.keras.models import load_model\n",
        "from sklearn.preprocessing import MinMaxScaler\n",
        "from sklearn.metrics import mean_absolute_error, mean_squared_error\n",
        "# Import the necessary loss function explicitly\n",
        "from tensorflow.keras.losses import MeanSquaredError\n",
        "\n",
        "# 1. 모델 로드\n",
        "# Load the model with custom_objects specifying the 'mse' loss\n",
        "model = load_model(\"weather_model.h5\", custom_objects={'mse': MeanSquaredError()})\n",
        "\n",
        "# 2. 테스트 데이터 준비\n",
        "# 'we1'에서 필요한 열만 추출하여 테스트용 실측 데이터를 준비합니다.\n",
        "# 예: 온도, 체감 온도, 상대 습도, 풍속, 자외선 지수, 구름량, 기압\n",
        "test_data = we1[['temp', 'real_feel_temp', 'rel_hum', 'wind_spd', 'uv_idx', 'cld_cvr', 'pressure']]\n",
        "\n",
        "# 3. 데이터 스케일링\n",
        "# 학습 시 사용한 MinMaxScaler와 동일한 방식으로 스케일링합니다.\n",
        "scaler = MinMaxScaler()\n",
        "test_data_scaled = scaler.fit_transform(test_data)\n",
        "\n",
        "# 4. 시계열 데이터 생성 (LSTM 입력 형식)\n",
        "# LSTM 입력에 맞게 시퀀스를 생성합니다. 예를 들어 30일 데이터를 사용하여 다음 날을 예측합니다.\n",
        "sequence_length = 30\n",
        "X_test = []\n",
        "y_test = []\n",
        "\n",
        "for i in range(sequence_length, len(test_data_scaled)):\n",
        "    X_test.append(test_data_scaled[i-sequence_length:i])  # 30일 시퀀스\n",
        "    y_test.append(test_data_scaled[i])  # 실제 다음 날 데이터\n",
        "\n",
        "X_test, y_test = np.array(X_test), np.array(y_test)\n",
        "\n",
        "# 5. 모델 예측\n",
        "# 로드된 모델을 사용하여 테스트 데이터에 대한 예측을 수행합니다.\n",
        "y_pred_scaled = model.predict(X_test)\n",
        "\n",
        "# 6. 스케일 복원\n",
        "# 예측 값과 실제 값을 원래 스케일로 되돌립니다.\n",
        "y_test_rescaled = scaler.inverse_transform(y_test)\n",
        "y_pred_rescaled = scaler.inverse_transform(y_pred_scaled)\n",
        "\n",
        "# 7. 오차 계산\n",
        "# MAE 및 RMSE를 사용해 모델의 예측 성능을 평가합니다.\n",
        "mae = mean_absolute_error(y_test_rescaled, y_pred_rescaled)\n",
        "rmse = np.sqrt(mean_squared_error(y_test_rescaled, y_pred_rescaled))\n",
        "\n",
        "print(f\"Mean Absolute Error (MAE): {mae}\")\n",
        "print(f\"Root Mean Squared Error (RMSE): {rmse}\")\n",
        "\n",
        "# 각 변수별로 오차 확인\n",
        "for i, col in enumerate(test_data.columns):\n",
        "    col_mae = mean_absolute_error(y_test_rescaled[:, i], y_pred_rescaled[:, i])\n",
        "    col_rmse = np.sqrt(mean_squared_error(y_test_rescaled[:, i], y_pred_rescaled[:, i]))\n",
        "    print(f\"{col} - MAE: {col_mae}, RMSE: {col_rmse}\")"
      ],
      "metadata": {
        "id": "wX2DLWTvB1XL"
      },
      "execution_count": null,
      "outputs": []
    },
    {
      "cell_type": "markdown",
      "source": [
        "Mean Absolute Error (MAE): 3.657884962639716\n",
        "Root Mean Squared Error (RMSE): 8.232695174703318\n",
        "temp - MAE: 0.8247750272470379, RMSE: 1.146867585465968\n",
        "real_feel_temp - MAE: 1.149866699682854, RMSE: 1.5624553258424076\n",
        "rel_hum - MAE: 4.931031174306191, RMSE: 6.692773044634691\n",
        "wind_spd - MAE: 2.742685768595669, RMSE: 4.000415478922464\n",
        "uv_idx - MAE: 0.5086974912857777, RMSE: 0.8665536835328982\n",
        "cld_cvr - MAE: 14.600891910577658, RMSE: 20.193307762616985\n",
        "pressure - MAE: 0.8472466667828337, RMSE: 1.1692682583590772\n",
        "\n",
        "-> 구름량과 상대습도, 풍속에서 오차가 높음"
      ],
      "metadata": {
        "id": "JvDk-VVnCero"
      }
    },
    {
      "cell_type": "markdown",
      "source": [
        "# 전기 가격 예측 모델"
      ],
      "metadata": {
        "id": "hAIyH2iICst-"
      }
    },
    {
      "cell_type": "code",
      "source": [
        "import pandas as pd\n",
        "day = pd.read_csv(\"/content/제주전력시장_시장전기가격_하루전가격.csv\")\n",
        "day.head()"
      ],
      "metadata": {
        "id": "7iI5XhAsCr-f"
      },
      "execution_count": null,
      "outputs": []
    },
    {
      "cell_type": "code",
      "source": [
        "day = day.drop(columns = ['ts'])"
      ],
      "metadata": {
        "id": "_DLZxqw9EANn"
      },
      "execution_count": null,
      "outputs": []
    },
    {
      "cell_type": "code",
      "source": [
        "we1.info()\n",
        "pre1.info()"
      ],
      "metadata": {
        "id": "sjtWL1ySHdf-"
      },
      "execution_count": null,
      "outputs": []
    },
    {
      "cell_type": "code",
      "source": [
        "from xgboost import XGBRegressor\n",
        "from sklearn.metrics import mean_absolute_error, mean_squared_error\n",
        "\n",
        "# 시계열 데이터 생성 (24시간 전 데이터로 다음 전기 가격 예측)\n",
        "sequence_length = 24\n",
        "X_price = []\n",
        "y_price = []\n",
        "\n",
        "for i in range(sequence_length, len(pre1['실시간 확정 가격(원/kWh)'])):\n",
        "    X_price.append(pre1['실시간 확정 가격(원/kWh)'].values[i-sequence_length:i])\n",
        "    y_price.append(pre1['실시간 확정 가격(원/kWh)'].values[i])\n",
        "\n",
        "X_price, y_price = np.array(X_price), np.array(y_price)\n",
        "\n",
        "# 전기 가격 예측 모델\n",
        "model_price = XGBRegressor(n_estimators=100, learning_rate=0.1)\n",
        "model_price.fit(X_price, y_price)\n",
        "\n",
        "# 예측 및 평가\n",
        "y_pred = model_price.predict(X_price)\n",
        "mae = mean_absolute_error(y_price, y_pred)\n",
        "rmse = np.sqrt(mean_squared_error(y_price, y_pred))\n",
        "\n",
        "print(f\"Mean Absolute Error (MAE): {mae}\")\n",
        "print(f\"Root Mean Squared Error (RMSE): {rmse}\")\n"
      ],
      "metadata": {
        "id": "pyPdWlAyIGIN"
      },
      "execution_count": null,
      "outputs": []
    },
    {
      "cell_type": "code",
      "source": [
        "# Import the necessary library for saving the model\n",
        "import pickle\n",
        "\n",
        "# Save the model using pickle\n",
        "with open(\"predict_electric.pkl\", \"wb\") as f:\n",
        "    pickle.dump(model_price, f)"
      ],
      "metadata": {
        "id": "ZM0ozdyTIh_C"
      },
      "execution_count": null,
      "outputs": []
    },
    {
      "cell_type": "markdown",
      "source": [
        "# 전기가격 예측"
      ],
      "metadata": {
        "id": "fsYP9iVCJU_T"
      }
    },
    {
      "cell_type": "code",
      "source": [
        "import numpy as np\n",
        "import pandas as pd\n",
        "import tensorflow as tf\n",
        "import pickle\n",
        "from sklearn.preprocessing import MinMaxScaler"
      ],
      "metadata": {
        "id": "RmGbE02mJUMS"
      },
      "execution_count": null,
      "outputs": []
    },
    {
      "cell_type": "code",
      "source": [
        "#테스트코드임\n",
        "\n",
        "import numpy as np\n",
        "\n",
        "\n",
        "def calculate_measure(actual, forecast):\n",
        "    actual = np.array(actual)\n",
        "    forecast = np.array(forecast)\n",
        "\n",
        "    positive_index = actual > 0\n",
        "    negative_index = actual <= 0\n",
        "\n",
        "    # Number of positive and negative prices\n",
        "    n1 = np.sum(positive_index) + 1e-7\n",
        "    n2 = np.sum(negative_index) + 1e-7\n",
        "\n",
        "    # e1: Positive price forecast error rate\n",
        "    e1 = (\n",
        "        np.sum(\n",
        "            np.abs(actual[positive_index] - forecast[positive_index])\n",
        "            / np.abs(actual[positive_index])\n",
        "        )\n",
        "        / n1\n",
        "    )\n",
        "\n",
        "    # e2: Negative price prediction error rate\n",
        "    e2 = (\n",
        "        np.sum(\n",
        "            np.abs(actual[negative_index] - forecast[negative_index])\n",
        "            / np.abs(forecast[negative_index])\n",
        "        )\n",
        "        / n2\n",
        "    )\n",
        "\n",
        "    TP = np.sum((forecast > 0) & (actual > 0))\n",
        "    TN = np.sum((forecast <= 0) & (actual <= 0))\n",
        "    FP = np.sum((forecast > 0) & (actual <= 0))\n",
        "    FN = np.sum((forecast <= 0) & (actual > 0))\n",
        "\n",
        "    # Accuracy calculation\n",
        "    Accuracy = (TP + TN) / (TP + TN + FP + FN)\n",
        "    print(f'Accuracy: {Accuracy}')\n",
        "    print(f'e1: {e1}, e2: {e2}')\n",
        "\n",
        "    e_F = 0.2 * e1 + 0.8 * e2 - (Accuracy - 0.95)\n",
        "\n",
        "    return e_F"
      ],
      "metadata": {
        "id": "1XclD5JOScYu"
      },
      "execution_count": null,
      "outputs": []
    },
    {
      "cell_type": "code",
      "source": [
        "import numpy as np\n",
        "import tensorflow as tf\n",
        "import pickle\n",
        "import pandas as pd\n",
        "from sklearn.metrics import mean_absolute_error, mean_squared_error, r2_score\n",
        "\n",
        "# 1. 모델 불러오기\n",
        "weather_model = tf.keras.models.load_model(\"weather_model.h5\", compile=False)\n",
        "weather_model.compile(optimizer='adam', loss='mse')\n",
        "\n",
        "with open(\"price_model.pkl\", \"rb\") as file:\n",
        "    price_model = pickle.load(file)\n",
        "\n",
        "# 2. 기상 데이터 예측\n",
        "weather_data = we1[['temp', 'real_feel_temp', 'rel_hum', 'wind_spd', 'uv_idx', 'cld_cvr', 'pressure']].values.astype(np.float32)\n",
        "\n",
        "# 시계열 데이터 생성 (예: 30 타임스텝씩 묶기)\n",
        "sequence_length = 30\n",
        "X_weather = [weather_data[i: i + sequence_length] for i in range(len(weather_data) - sequence_length + 1)]\n",
        "X_weather = np.array(X_weather)\n",
        "\n",
        "# 모델 예측\n",
        "predicted_weather = weather_model.predict(X_weather)\n",
        "\n",
        "# 3. 전기 가격 예측\n",
        "# 실시간 데이터 (5분 간격) 로드 및 1시간 단위 변환\n",
        "price_data = pd.read_csv(\"/content/제주전력시장_시장전기가격_실시간가격.csv\")\n",
        "price_data_5min = price_data[['실시간 확정 가격(원/kWh)']].values.astype(np.float32)\n",
        "\n",
        "# 5분 간격 데이터를 1시간 단위로 변환하여 24개의 값 생성\n",
        "price_data_1hr = [np.mean(price_data_5min[i:i + 12]) for i in range(0, len(price_data_5min), 12)]\n",
        "price_data_1hr = np.array(price_data_1hr[:24])  # 24개의 값으로 설정\n",
        "\n",
        "# 전기 가격 예측 - 각 시간별로 반복하여 예측 수행\n",
        "predicted_price = []\n",
        "\n",
        "for i in range(24):\n",
        "    input_data = price_data_1hr.reshape(1, 24)  # (1, 24) 형태로 변환\n",
        "    predicted_value = price_model.predict(input_data)\n",
        "    # Access the predicted value directly using [0] instead of [0][0]\n",
        "    predicted_price.append(predicted_value[0])\n",
        "\n",
        "predicted_price = np.array(predicted_price)  # 24개의 예측 결과로 변환\n",
        "\n",
        "# 4. 실제 하루 동안의 전기 가격 데이터 준비\n",
        "actual_prices = pd.read_csv(\"/content/제주전력시장_시장전기가격_하루전가격.csv\")\n",
        "actual_prices = actual_prices[['하루전가격(원/kWh)']].values.astype(np.float32).flatten()[:24]  # 24개로 맞춤\n",
        "\n",
        "# 5. 예측 성능 평가\n",
        "# 하루 # 5. 예측 성능 평가\n",
        "# Calculate MAE, RMSE, and R-squared\n",
        "mae = mean_absolute_error(actual_prices, predicted_price)\n",
        "rmse = np.sqrt(mean_squared_error(actual_prices, predicted_price))\n",
        "r2 = r2_score(actual_prices, predicted_price)\n",
        "\n",
        "# Calculate MAPE\n",
        "# Note: We need to handle cases where actual price is 0 to avoid division by zero\n",
        "mape_numerator = np.abs(actual_prices - predicted_price)\n",
        "mape_denominator = np.abs(actual_prices)\n",
        "mape_denominator[mape_denominator == 0] = np.nan  # Replace 0 with NaN to avoid errors\n",
        "mape = np.nanmean(mape_numerator / mape_denominator) * 100\n",
        "\n",
        "# Print the evaluation metrics\n",
        "print(f\"MAE: {mae}\")\n",
        "print(f\"RMSE: {rmse}\")\n",
        "print(f\"MAPE: {mape:.2f}%\")\n",
        "print(f\"R-squared: {r2}\")\n"
      ],
      "metadata": {
        "id": "yGHhBAM0KVPP"
      },
      "execution_count": null,
      "outputs": []
    },
    {
      "cell_type": "markdown",
      "source": [
        "MAE: 31.472082138061523\n",
        "RMSE: 50.7689323425293\n",
        "MAPE: 7.94%\n",
        "R-squared: -0.1986839771270752"
      ],
      "metadata": {
        "id": "I3GSuRx9SvqB"
      }
    },
    {
      "cell_type": "code",
      "source": [
        "print(\"Shape of predicted_price:\", predicted_price.shape)\n",
        "print(\"Shape of actual_prices:\", actual_prices.shape)"
      ],
      "metadata": {
        "id": "b693LZrGO7Qr"
      },
      "execution_count": null,
      "outputs": []
    },
    {
      "cell_type": "markdown",
      "source": [
        "# 모델 2트 R-squared가 어떻게 - 0.19...\n",
        "## 망해서 LSTM 모델로 다시해봄\n"
      ],
      "metadata": {
        "id": "SsOOS8B2keRS"
      }
    },
    {
      "cell_type": "code",
      "source": [
        "pip install statsmodels"
      ],
      "metadata": {
        "id": "XcRs1_QmLkz7"
      },
      "execution_count": null,
      "outputs": []
    },
    {
      "cell_type": "code",
      "source": [
        "import pandas as pd\n",
        "import numpy as np\n",
        "import matplotlib.pyplot as plt\n",
        "from statsmodels.tsa.arima.model import ARIMA\n",
        "from statsmodels.tsa.stattools import adfuller\n",
        "from sklearn.metrics import mean_squared_error"
      ],
      "metadata": {
        "id": "bmSAKfEAiknV"
      },
      "execution_count": null,
      "outputs": []
    },
    {
      "cell_type": "code",
      "source": [
        "weather = pd.read_csv(\"/content/기상실측데이터_2.csv\")\n",
        "weather.head()"
      ],
      "metadata": {
        "id": "MBsEl5Zpi9Bo"
      },
      "execution_count": null,
      "outputs": []
    },
    {
      "cell_type": "code",
      "source": [
        "invalid_rows = weather['ts'] == 'ts'  # Replace 'ts' with the actual invalid value if different\n",
        "\n",
        "# Drop the rows with invalid values\n",
        "weather = weather[~invalid_rows]\n",
        "\n",
        "# Now, convert the remaining valid 'ts' values to datetime objects\n",
        "weather['ts'] = pd.to_datetime(weather['ts'], unit='s', errors='coerce')"
      ],
      "metadata": {
        "id": "to4z7lPkjWui"
      },
      "execution_count": null,
      "outputs": []
    },
    {
      "cell_type": "code",
      "source": [
        "weather.head()\n",
        "weather.tail()"
      ],
      "metadata": {
        "id": "cDVbfkWPjvIk"
      },
      "execution_count": null,
      "outputs": []
    },
    {
      "cell_type": "code",
      "source": [
        "# 'snow' 컬럼을 숫자형으로 변환 (오류 무시)\n",
        "weather['snow'] = pd.to_numeric(weather['snow'], errors='coerce')\n",
        "\n",
        "# snow 컬럼에서 0 값의 비율 계산하기\n",
        "zero_count = weather['snow'].eq(0).sum()\n",
        "total_count = weather['snow'].count()  # 또는 total_count = weather['snow'].size (결측값 포함)\n",
        "zero_percentage = (zero_count / total_count) * 100\n",
        "\n",
        "print(f\"snow 컬럼에서 0 값의 비율: {zero_percentage:.2f}%\")"
      ],
      "metadata": {
        "id": "wkf0Sc0_j87w"
      },
      "execution_count": null,
      "outputs": []
    },
    {
      "cell_type": "code",
      "source": [
        "weather = weather.drop('snow', axis=1)"
      ],
      "metadata": {
        "id": "AAOLTLQRkIMH"
      },
      "execution_count": null,
      "outputs": []
    },
    {
      "cell_type": "code",
      "source": [
        "weather['ground_press'] = pd.to_numeric(weather['ground_press'], errors='coerce')"
      ],
      "metadata": {
        "id": "Qpx4zPq9ll2P"
      },
      "execution_count": null,
      "outputs": []
    },
    {
      "cell_type": "code",
      "source": [
        "ground_press_counts = weather['ground_press'].value_counts()\n",
        "\n",
        "# Display the results\n",
        "print(ground_press_counts)"
      ],
      "metadata": {
        "id": "Bgfb_pqRmA5P"
      },
      "execution_count": null,
      "outputs": []
    },
    {
      "cell_type": "code",
      "source": [
        "weather['rain'] = pd.to_numeric(weather['rain'], errors='coerce')"
      ],
      "metadata": {
        "id": "A48mfhvLmDxE"
      },
      "execution_count": null,
      "outputs": []
    },
    {
      "cell_type": "code",
      "source": [
        "ground_press_counts = weather['rain'].value_counts()\n",
        "\n",
        "# Display the results\n",
        "print(ground_press_counts)"
      ],
      "metadata": {
        "id": "O4Ya5k-qmeJ8"
      },
      "execution_count": null,
      "outputs": []
    },
    {
      "cell_type": "code",
      "source": [
        "we1.info()"
      ],
      "metadata": {
        "id": "6weWsO27mlLL"
      },
      "execution_count": null,
      "outputs": []
    },
    {
      "cell_type": "code",
      "source": [
        "# Get the list of columns in the DataFrame\n",
        "print(we1.columns)\n",
        "\n",
        "# Drop only the columns that exist in the DataFrame\n",
        "we1 = we1.drop(columns=[col for col in ['location', 'real_feel_temp_shade', 'uv_idx', 'ceiling',\n",
        "                                        'appr_temp', 'wind_chill_temp', 'wet_bulb_temp', 'precip_1h']\n",
        "                        if col in we1.columns])\n",
        "\n",
        "# 결과 확인\n",
        "print(we1.head())"
      ],
      "metadata": {
        "id": "Ol8QokGRnFGd"
      },
      "execution_count": null,
      "outputs": []
    },
    {
      "cell_type": "code",
      "source": [
        "# Convert columns to numeric\n",
        "for column in we1:\n",
        "    if column in we1.columns:  # Check if column exists\n",
        "        we1[column] = pd.to_numeric(we1[column], errors='coerce')\n",
        "\n",
        "# Check the data types of the columns after conversion\n",
        "print(we1.dtypes)"
      ],
      "metadata": {
        "id": "4uZx7YesoRIR"
      },
      "execution_count": null,
      "outputs": []
    },
    {
      "cell_type": "code",
      "source": [
        "invalid_rows = we1['ts'] == 'ts'  # Replace 'ts' with the actual invalid value if different\n",
        "\n",
        "# Drop the rows with invalid values\n",
        "we1 = we1[~invalid_rows]\n",
        "\n",
        "# Now, convert the remaining valid 'ts' values to datetime objects\n",
        "we1['ts'] = pd.to_datetime(we1['ts'], unit='s', errors='coerce')"
      ],
      "metadata": {
        "id": "NB4ztHpLo6ox"
      },
      "execution_count": null,
      "outputs": []
    },
    {
      "cell_type": "code",
      "source": [
        "we1.head()"
      ],
      "metadata": {
        "id": "6Oba0d71pEBI"
      },
      "execution_count": null,
      "outputs": []
    },
    {
      "cell_type": "code",
      "source": [
        "# Convert columns to numeric\n",
        "for column in weather:\n",
        "    if column in weather.columns:  # Check if column exists\n",
        "        weather[column] = pd.to_numeric(weather[column], errors='coerce')\n",
        "\n",
        "# Check the data types of the columns after conversion\n",
        "print(weather.dtypes)"
      ],
      "metadata": {
        "id": "toDq03q0pH_S"
      },
      "execution_count": null,
      "outputs": []
    },
    {
      "cell_type": "code",
      "source": [
        "weather.info()"
      ],
      "metadata": {
        "id": "1w5FNwX3pVIX"
      },
      "execution_count": null,
      "outputs": []
    },
    {
      "cell_type": "markdown",
      "source": [
        "합쳐볼려고 했지만 컬럼이 안맞아서 NaN값으로 뜸ㅜㅜ"
      ],
      "metadata": {
        "id": "q_v7uvBpqcDp"
      }
    },
    {
      "cell_type": "code",
      "source": [
        "# 시간 정보에서 특징 생성\n",
        "weather['hour'] = weather['ts'].dt.hour\n",
        "weather['minute'] = weather['ts'].dt.minute"
      ],
      "metadata": {
        "id": "3zR1BNRGpsYt"
      },
      "execution_count": null,
      "outputs": []
    },
    {
      "cell_type": "code",
      "source": [
        "weather['hour_sin'] = np.sin(2 * np.pi * weather['hour'] / 24)\n",
        "weather['hour_cos'] = np.cos(2 * np.pi * weather['hour'] / 24)"
      ],
      "metadata": {
        "id": "04Cn4lfJwcBN"
      },
      "execution_count": null,
      "outputs": []
    },
    {
      "cell_type": "code",
      "source": [
        "weather.head()"
      ],
      "metadata": {
        "id": "2pfPgeFYwNlX"
      },
      "execution_count": null,
      "outputs": []
    },
    {
      "cell_type": "code",
      "source": [
        "# 필요없는 컬럼 제거\n",
        "weather = weather.drop(columns=['ts', 'hour', 'minute', 'location'])"
      ],
      "metadata": {
        "id": "-EDSmPHMqIvD"
      },
      "execution_count": null,
      "outputs": []
    },
    {
      "cell_type": "code",
      "source": [
        "import pandas as pd\n",
        "import numpy as np\n",
        "from tensorflow.keras.models import Sequential\n",
        "from tensorflow.keras.layers import LSTM, Dense\n",
        "from sklearn.preprocessing import MinMaxScaler\n",
        "\n",
        "# 스케일링에서 hour_sin과 hour_cos 제외\n",
        "columns_to_scale = [col for col in weather.columns if col not in ['hour_sin', 'hour_cos']]\n",
        "\n",
        "scaler = MinMaxScaler()\n",
        "weather[columns_to_scale] = scaler.fit_transform(weather[columns_to_scale])"
      ],
      "metadata": {
        "id": "H-7DGGhnrrf-"
      },
      "execution_count": null,
      "outputs": []
    },
    {
      "cell_type": "code",
      "source": [
        "def create_sequences(data, sequence_length=288):  # 하루 5분 단위로 288개 데이터\n",
        "    X, y = [], []\n",
        "    for i in range(len(data) - sequence_length):\n",
        "        # X에 시퀀스를 추가\n",
        "        X.append(data[i:i + sequence_length])\n",
        "        # y에 예측하고자 하는 변수(예: temp)를 추가\n",
        "        if i + sequence_length < len(data):  # 인덱스 범위 체크\n",
        "            y.append(data[i + sequence_length, 1])  # 예측할 열의 인덱스를 확인 (예: temp가 1번째 열일 경우)\n",
        "    return np.array(X), np.array(y)"
      ],
      "metadata": {
        "id": "Oqmz2PLbrxhu"
      },
      "execution_count": null,
      "outputs": []
    },
    {
      "cell_type": "code",
      "source": [
        "X, y = create_sequences(scaled_data, sequence_length=288)\n",
        "print(\"X shape:\", X.shape)\n",
        "print(\"y shape:\", y.shape)\n",
        "print(\"y 데이터 요약:\", pd.Series(y).describe())"
      ],
      "metadata": {
        "id": "s4JVYNx80Cje"
      },
      "execution_count": null,
      "outputs": []
    },
    {
      "cell_type": "code",
      "source": [
        "# LSTM 모델 정의\n",
        "model = Sequential([\n",
        "    LSTM(50, return_sequences=True, input_shape=(X.shape[1], X.shape[2])),\n",
        "    LSTM(50),\n",
        "    Dense(1)\n",
        "])"
      ],
      "metadata": {
        "id": "QHnG-nu3sGML"
      },
      "execution_count": null,
      "outputs": []
    },
    {
      "cell_type": "code",
      "source": [
        "# 모델 컴파일\n",
        "from tensorflow.keras.losses import Huber\n",
        "model.compile(optimizer=Adam(learning_rate=1e-5), loss=Huber())"
      ],
      "metadata": {
        "id": "obsLWfFSx7FL"
      },
      "execution_count": null,
      "outputs": []
    },
    {
      "cell_type": "code",
      "source": [
        "import tensorflow as tf\n",
        "tf.random.set_seed(42)"
      ],
      "metadata": {
        "id": "4CIRhRGp1SaD"
      },
      "execution_count": null,
      "outputs": []
    },
    {
      "cell_type": "code",
      "source": [
        "print(\"y 데이터 샘플:\", y[:10])"
      ],
      "metadata": {
        "id": "iXTB-EJD1X57"
      },
      "execution_count": null,
      "outputs": []
    },
    {
      "cell_type": "code",
      "source": [
        "pip install prophet"
      ],
      "metadata": {
        "id": "O8rEalRlx95c"
      },
      "execution_count": null,
      "outputs": []
    },
    {
      "cell_type": "code",
      "source": [
        "from prophet import Prophet\n",
        "\n"
      ],
      "metadata": {
        "id": "atpwF6vF3-RV"
      },
      "execution_count": null,
      "outputs": []
    },
    {
      "cell_type": "code",
      "source": [
        "print(weather.describe())"
      ],
      "metadata": {
        "id": "6g6kYkxoxj3c"
      },
      "execution_count": null,
      "outputs": []
    },
    {
      "cell_type": "code",
      "source": [
        "X, y = create_sequences(scaled_data, sequence_length=288)\n",
        "print(\"X shape:\", X.shape)\n",
        "print(\"y shape:\", y.shape)"
      ],
      "metadata": {
        "id": "ha2qEGtgxvjO"
      },
      "execution_count": null,
      "outputs": []
    },
    {
      "cell_type": "code",
      "source": [
        "# 데이터에 NaN 또는 inf가 있는지 확인\n",
        "print(\"NaN 값 개수:\", weather.isna().sum().sum())\n",
        "print(\"inf 값 여부:\", np.isinf(weather.values).any())\n",
        "\n",
        "# NaN 또는 inf 값을 처리\n",
        "#weather = df.replace([np.inf, -np.inf], np.nan).dropna()"
      ],
      "metadata": {
        "id": "ssxTkv9JsK9e"
      },
      "execution_count": null,
      "outputs": []
    },
    {
      "cell_type": "code",
      "source": [
        "weather = weather.drop(columns=['hour_sin', 'hour_cos'], axis=1)"
      ],
      "metadata": {
        "id": "Y4ZZ6ZQvuQHP"
      },
      "execution_count": null,
      "outputs": []
    },
    {
      "cell_type": "code",
      "source": [
        "weather.head()"
      ],
      "metadata": {
        "id": "1BB0wX2ruZ20"
      },
      "execution_count": null,
      "outputs": []
    },
    {
      "cell_type": "code",
      "source": [
        "print(\"y 데이터 요약:\", pd.Series(y).describe())"
      ],
      "metadata": {
        "id": "VW0vviJDurHw"
      },
      "execution_count": null,
      "outputs": []
    },
    {
      "cell_type": "code",
      "source": [
        "print(\"scaled_data shape:\", scaled_data.shape)"
      ],
      "metadata": {
        "id": "IG9aTIzVzsww"
      },
      "execution_count": null,
      "outputs": []
    },
    {
      "cell_type": "markdown",
      "source": [
        "랜덤포레스트로 다시"
      ],
      "metadata": {
        "id": "dHwTfqCY4n57"
      }
    },
    {
      "cell_type": "code",
      "source": [
        "import pandas as pd\n",
        "import numpy as np\n",
        "from sklearn.ensemble import RandomForestRegressor\n",
        "from sklearn.model_selection import train_test_split\n",
        "from sklearn.metrics import mean_squared_error"
      ],
      "metadata": {
        "id": "MwQUuDsZ4nWi"
      },
      "execution_count": null,
      "outputs": []
    },
    {
      "cell_type": "code",
      "source": [
        "X = weather[['cloud', 'temp_max', 'temp_min', 'humidity', 'ground_press',\n",
        "        'wind_speed', 'wind_dir', 'rain', 'hour_sin', 'hour_cos']]  # 특성 변수\n",
        "y = weather['temp']  # 예측할 변수"
      ],
      "metadata": {
        "id": "NcLW09p9z3Yc"
      },
      "execution_count": null,
      "outputs": []
    },
    {
      "cell_type": "code",
      "source": [
        "# 학습 및 테스트 데이터 분리\n",
        "X_train, X_test, y_train, y_test = train_test_split(X, y, test_size=0.2, random_state=42)"
      ],
      "metadata": {
        "id": "3gXdYb7W4ve3"
      },
      "execution_count": null,
      "outputs": []
    },
    {
      "cell_type": "code",
      "source": [
        "# 모델 초기화 및 학습\n",
        "model = RandomForestRegressor(n_estimators=100, random_state=42)\n",
        "model.fit(X_train, y_train)"
      ],
      "metadata": {
        "id": "v98G9NtK4ydP"
      },
      "execution_count": null,
      "outputs": []
    },
    {
      "cell_type": "code",
      "source": [
        "y_pred = model.predict(X_test)"
      ],
      "metadata": {
        "id": "b1FUWp-t40eT"
      },
      "execution_count": null,
      "outputs": []
    },
    {
      "cell_type": "code",
      "source": [
        "# 성능 평가\n",
        "mse = mean_squared_error(y_test, y_pred)\n",
        "print(\"Mean Squared Error:\", mse)\n",
        "\n",
        "# 예측값 샘플 확인\n",
        "print(\"예측값 샘플:\", y_pred[:10])\n",
        "print(\"실제값 샘플:\", y_test.values[:10])"
      ],
      "metadata": {
        "id": "apN0Mz6l46UN"
      },
      "execution_count": null,
      "outputs": []
    },
    {
      "cell_type": "markdown",
      "source": [
        "Mean Squared Error: 2.5126729456721955e-08\n",
        "예측값 샘플: [0.51369337 0.46276427 0.56744817 0.61376504 0.75831328 0.45532634\n",
        " 0.37264653 0.67161505 0.56309189 0.61837983]\n",
        "실제값 샘플: [0.51369337 0.46275915 0.56744305 0.61377016 0.75838239 0.45533658\n",
        " 0.37266445 0.67161505 0.56309189 0.61837727]"
      ],
      "metadata": {
        "id": "-B0xhjJz5Ckv"
      }
    },
    {
      "cell_type": "markdown",
      "source": [
        "과적합되었을 가능성 존재"
      ],
      "metadata": {
        "id": "kuXqxLWo5FFv"
      }
    },
    {
      "cell_type": "code",
      "source": [
        "X_train, X_test, y_train, y_test = train_test_split(X, y, test_size=0.2, shuffle=False)"
      ],
      "metadata": {
        "id": "UnCL6fbb48PN"
      },
      "execution_count": null,
      "outputs": []
    },
    {
      "cell_type": "code",
      "source": [
        "model = RandomForestRegressor(n_estimators=100, max_depth=10, min_samples_split=5, min_samples_leaf=2, random_state=42)\n",
        "model.fit(X_train, y_train)"
      ],
      "metadata": {
        "id": "zeQyVPCq5O6B"
      },
      "execution_count": null,
      "outputs": []
    },
    {
      "cell_type": "code",
      "source": [
        "y_pred = model.predict(X_test)"
      ],
      "metadata": {
        "id": "5dmaYuOR5Qxf"
      },
      "execution_count": null,
      "outputs": []
    },
    {
      "cell_type": "code",
      "source": [
        "# 성능 평가\n",
        "mse = mean_squared_error(y_test, y_pred)\n",
        "print(\"Mean Squared Error:\", mse)\n",
        "\n",
        "# 예측값 샘플 확인\n",
        "print(\"예측값 샘플:\", y_pred[:10])\n",
        "print(\"실제값 샘플:\", y_test.values[:10])"
      ],
      "metadata": {
        "id": "h-lYNzvT5Xg7"
      },
      "execution_count": null,
      "outputs": []
    },
    {
      "cell_type": "code",
      "source": [
        "import joblib\n",
        "\n",
        "# ... (your existing code to train the model) ...\n",
        "\n",
        "# Save the model using joblib\n",
        "joblib.dump(model, \"random_forest_model.pkl\")"
      ],
      "metadata": {
        "id": "pp2RWvrp56A3"
      },
      "execution_count": null,
      "outputs": []
    },
    {
      "cell_type": "code",
      "source": [
        "from sklearn.model_selection import cross_val_score\n",
        "\n",
        "scores = cross_val_score(model, X, y, cv=5, scoring='neg_mean_squared_error')\n",
        "print(\"Cross-Validation MSE:\", -scores.mean())"
      ],
      "metadata": {
        "id": "0QRDhFXl5ilD"
      },
      "execution_count": null,
      "outputs": []
    },
    {
      "cell_type": "markdown",
      "source": [
        "Cross-Validation MSE: 8.345389623078378e-06"
      ],
      "metadata": {
        "id": "tIjJV1-g6YJH"
      }
    },
    {
      "cell_type": "markdown",
      "source": [
        "# 하루 전의 전기가격 모델을 생성하면 됨\n",
        "\n",
        "[전력 수요 및 공급 관련 데이터]\n",
        "1. 과거 전기 가격 (prev_price)\n",
        "2. 전력 수요량 (demand)\n",
        "3. 전력 공급량 (supply): 특히 재생 에너지\n",
        "4. 전력 거래량 (trade_volume)\n",
        "\n",
        "<이건 필수 변수 나머지는 추가할 예정>"
      ],
      "metadata": {
        "id": "36bhNIO46ayI"
      }
    },
    {
      "cell_type": "markdown",
      "source": [
        "# 전기가격에 어떤 변수들이 영향을 미칠까?"
      ],
      "metadata": {
        "id": "p8SSu5-tWEOu"
      }
    },
    {
      "cell_type": "code",
      "source": [
        "# 상관관계를 파악하기 위해서 히트맵을 그려보기로 함\n",
        "day.info()\n",
        "day.describe()"
      ],
      "metadata": {
        "id": "4d3wOQH26Dt2"
      },
      "execution_count": null,
      "outputs": []
    },
    {
      "cell_type": "code",
      "source": [
        "time = pd.read_csv(\"/content/제주전력시장_시장전기가격_실시간가격.csv\")\n",
        "time.info()"
      ],
      "metadata": {
        "id": "IP9fNGSiW0AB"
      },
      "execution_count": null,
      "outputs": []
    },
    {
      "cell_type": "code",
      "source": [
        "now = pd.read_csv(\"/content/제주전력시장_현황데이터.csv\")\n",
        "now.info()"
      ],
      "metadata": {
        "id": "spLhM_JHXCst"
      },
      "execution_count": null,
      "outputs": []
    },
    {
      "cell_type": "code",
      "source": [
        "now.head()"
      ],
      "metadata": {
        "id": "6lAo9XPZXMqD"
      },
      "execution_count": null,
      "outputs": []
    },
    {
      "cell_type": "code",
      "source": [
        "# '태양광 발전량kW)' 컬럼을 숫자형으로 변환 (오류 무시)\n",
        "now['태양광 발전량kW)'] = pd.to_numeric(now['태양광 발전량kW)'], errors='coerce')\n",
        "\n",
        "# 태양광 발전량kW) 컬럼에서 0 값의 비율 계산하기\n",
        "zero_count = now['태양광 발전량kW)'].eq(0).sum()\n",
        "total_count = now['태양광 발전량kW)'].count()  # 또는 total_count = now['태양광 발전량kW)'].size (결측값 포함)\n",
        "zero_percentage = (zero_count / total_count) * 100\n",
        "\n",
        "print(f\"태양광 발전량kW) 컬럼에서 0 값의 비율: {zero_percentage:.2f}%\")"
      ],
      "metadata": {
        "id": "SgKH9xP8XXTF"
      },
      "execution_count": null,
      "outputs": []
    },
    {
      "cell_type": "code",
      "source": [
        "day['ts'] = pd.to_datetime(day['ts'], unit='s')\n",
        "time['ts'] = pd.to_datetime(time['ts'], unit='s')\n",
        "now['ts'] = pd.to_datetime(now['ts'], unit='s')"
      ],
      "metadata": {
        "id": "pyqgJzzfXod4"
      },
      "execution_count": null,
      "outputs": []
    },
    {
      "cell_type": "code",
      "source": [
        "now.head()"
      ],
      "metadata": {
        "id": "dn00bjyFZxaj"
      },
      "execution_count": null,
      "outputs": []
    },
    {
      "cell_type": "code",
      "source": [
        "time.head()"
      ],
      "metadata": {
        "id": "a7uqx3BaZ1mU"
      },
      "execution_count": null,
      "outputs": []
    },
    {
      "cell_type": "code",
      "source": [
        "day.head()"
      ],
      "metadata": {
        "id": "WjF26rL0Z7J5"
      },
      "execution_count": null,
      "outputs": []
    },
    {
      "cell_type": "code",
      "source": [
        "# 각 데이터셋의 날짜 범위 확인\n",
        "print(\"전력 데이터 범위:\", now['ts'].min(), \"to\", now['ts'].max())\n",
        "print(\"실시간 가격 데이터 범위:\", time['ts'].min(), \"to\", time['ts'].max())\n",
        "print(\"하루전 가격 데이터 범위:\", day['ts'].min(), \"to\", day['ts'].max())"
      ],
      "metadata": {
        "id": "6hWokRDwZ-6q"
      },
      "execution_count": null,
      "outputs": []
    },
    {
      "cell_type": "code",
      "source": [
        "# weather 데이터의 숫자형으로 변환 가능한 열을 숫자형으로 변환\n",
        "for col in weather.columns:\n",
        "    if weather[col].dtype == 'object':\n",
        "        weather[col] = pd.to_numeric(weather[col], errors='coerce')\n"
      ],
      "metadata": {
        "id": "QI8bZXWof6he"
      },
      "execution_count": null,
      "outputs": []
    },
    {
      "cell_type": "code",
      "source": [
        "# we1 데이터의 숫자형으로 변환 가능한 열을 숫자형으로 변환\n",
        "for col in we1.columns:\n",
        "    if we1[col].dtype == 'object':\n",
        "        we1[col] = pd.to_numeric(we1[col], errors='coerce')"
      ],
      "metadata": {
        "id": "IHHwIM2UgIzM"
      },
      "execution_count": null,
      "outputs": []
    },
    {
      "cell_type": "code",
      "source": [
        "weather.head()\n",
        "weather = weather.drop('location', axis=1)"
      ],
      "metadata": {
        "id": "fDyg355lf9zP"
      },
      "execution_count": null,
      "outputs": []
    },
    {
      "cell_type": "code",
      "source": [
        "import pandas as pd\n",
        "\n",
        "# 데이터의 공통 시작일과 종료일 설정\n",
        "start_date = '2024-02-29 15:00:00'\n",
        "end_date = '2024-10-21 15:00:00'\n",
        "\n",
        "# ts 컬럼을 datetime 형식으로 변환\n",
        "now['ts'] = pd.to_datetime(now['ts'])\n",
        "time['ts'] = pd.to_datetime(time['ts'])\n",
        "day['ts'] = pd.to_datetime(day['ts'])\n",
        "we1['ts'] = pd.to_datetime(we1['ts'])\n",
        "weather['ts'] = pd.to_datetime(weather['ts'])\n",
        "\n",
        "# 전력 데이터 및 we1, weather 데이터 리샘플링 (1시간 단위로 평균값)\n",
        "now_hourly = now.set_index('ts').resample('H').mean().reset_index()\n",
        "we1_hourly = we1.set_index('ts').resample('H').mean().reset_index()\n",
        "weather_hourly = weather.set_index('ts').resample('H').mean().reset_index()\n",
        "\n",
        "# 공통 시간 구간으로 데이터 필터링\n",
        "now_hourly = now_hourly[(now_hourly['ts'] >= start_date) & (now_hourly['ts'] <= end_date)]\n",
        "time = time[(time['ts'] >= start_date) & (time['ts'] <= end_date)]\n",
        "day = day[(day['ts'] >= start_date) & (day['ts'] <= end_date)]\n",
        "we1_hourly = we1_hourly[(we1_hourly['ts'] >= start_date) & (we1_hourly['ts'] <= end_date)]\n",
        "weather_hourly = weather_hourly[(weather_hourly['ts'] >= start_date) & (weather_hourly['ts'] <= end_date)]\n",
        "\n",
        "# 데이터 병합 (ts 기준으로 left join)\n",
        "merged_df = now_hourly.merge(time, on='ts', how='left')\n",
        "merged_df = merged_df.merge(day, on='ts', how='left')\n",
        "merged_df = merged_df.merge(we1_hourly, on='ts', how='left')\n",
        "merged_df = merged_df.merge(weather_hourly, on='ts', how='left')"
      ],
      "metadata": {
        "id": "1pC6AnDdbujr"
      },
      "execution_count": null,
      "outputs": []
    },
    {
      "cell_type": "code",
      "source": [
        "merged_df.head()"
      ],
      "metadata": {
        "id": "hJiHJn2scRgX"
      },
      "execution_count": null,
      "outputs": []
    },
    {
      "cell_type": "code",
      "source": [
        "merged_df.info()"
      ],
      "metadata": {
        "id": "7LphUQU6gUxs"
      },
      "execution_count": null,
      "outputs": []
    },
    {
      "cell_type": "code",
      "source": [
        "!apt-get install -y fonts-nanum"
      ],
      "metadata": {
        "id": "0KQCfHzng58u"
      },
      "execution_count": null,
      "outputs": []
    },
    {
      "cell_type": "code",
      "source": [
        "import matplotlib.font_manager as fm\n",
        "import matplotlib as mpl\n",
        "\n",
        "# Update font cache using addfont (recommended approach)\n",
        "fm.fontManager.addfont('/usr/share/fonts/truetype/nanum/NanumGothic.ttf')\n",
        "\n",
        "# Set the font family\n",
        "mpl.font_manager.findSystemFonts(fontpaths=['/usr/share/fonts/truetype/nanum'])\n",
        "mpl.rcParams['font.family'] = 'NanumGothic'"
      ],
      "metadata": {
        "id": "4c5O-baThKLw"
      },
      "execution_count": null,
      "outputs": []
    },
    {
      "cell_type": "code",
      "source": [
        "import matplotlib.pyplot as plt\n",
        "import seaborn as sns\n",
        "import matplotlib.font_manager as fm\n",
        "import pandas as pd\n",
        "\n",
        "# 한글 폰트 설정\n",
        "plt.rcParams['font.family'] = 'NanumGothic'  # Windows의 경우 '맑은 고딕' 사용\n",
        "# plt.rcParams['font.family'] = 'AppleGothic'  # Mac의 경우 'AppleGothic' 사용\n",
        "\n",
        "\n",
        "\n",
        "# 상관관계 히트맵 그리기\n",
        "plt.figure(figsize=(15, 12))\n",
        "sns.heatmap(correlation_matrix, annot=False, cmap='coolwarm', linewidths=0.5)\n",
        "plt.title('상관관계 히트맵')  # 제목에 한글을 추가\n",
        "plt.show()\n"
      ],
      "metadata": {
        "id": "LTIEuYWUgfa0"
      },
      "execution_count": null,
      "outputs": []
    },
    {
      "cell_type": "markdown",
      "source": [
        "히트맵 분석으로 알 수 있는 것\n",
        "1. 하루전가격과 상관관계가 높은 변수\n",
        "-> 현재 수요\n",
        "-> 공급 예비력, 운영 예비력\n",
        "-> 태양광 발전량, 풍력 발전량\n",
        "-> 온도, 체감온도\n",
        "-> 습도\n",
        "-> 구름량, 강수량"
      ],
      "metadata": {
        "id": "SfoBBEtWkSYO"
      }
    },
    {
      "cell_type": "code",
      "source": [
        "# 모델 변수 선택\n",
        "X = merged_df[['실시간 임시 가격(원/kWh)', '실시간 확정 가격(원/kWh)', '공급능력(kW)', '현재 수요(kW)',\n",
        "               '태양광 발전량kW)', '풍력 발전량(kW)', '신재생 발전량 총합(kW)', '공급 예비력(kW)', '운영 예비력(kW)']]\n",
        "y = merged_df['하루전가격(원/kWh)']"
      ],
      "metadata": {
        "id": "OP3bdiKcb7IA"
      },
      "execution_count": null,
      "outputs": []
    },
    {
      "cell_type": "code",
      "source": [
        "from sklearn.model_selection import train_test_split\n",
        "from sklearn.ensemble import RandomForestRegressor\n",
        "from sklearn.metrics import mean_absolute_error\n",
        "\n",
        "# 학습용, 테스트용 데이터 분리\n",
        "X_train, X_test, y_train, y_test = train_test_split(X, y, test_size=0.2, shuffle=False)\n",
        "\n",
        "# 모델 학습\n",
        "model = RandomForestRegressor(random_state=42)\n",
        "model.fit(X_train, y_train)\n",
        "\n",
        "# 예측 및 평가\n",
        "y_pred = model.predict(X_test)\n",
        "mae = mean_absolute_error(y_test, y_pred)\n",
        "print(f'Mean Absolute Error: {mae}')"
      ],
      "metadata": {
        "id": "KbOTa3RWcOvc"
      },
      "execution_count": null,
      "outputs": []
    },
    {
      "cell_type": "markdown",
      "source": [
        "약 8.82로 나왔다면, 예측 값과 실제 값의 평균적인 차이가 약 8.82 원/kWh임을 의미"
      ],
      "metadata": {
        "id": "D-DnmHd0dMr7"
      }
    },
    {
      "cell_type": "code",
      "source": [
        "import joblib # Import the joblib library\n",
        "\n",
        "# ... (your existing code for training the model) ...\n",
        "\n",
        "# Save the model using joblib\n",
        "joblib.dump(model, 'price_electric.pkl')"
      ],
      "metadata": {
        "id": "m6XVi9CAc_Pa"
      },
      "execution_count": null,
      "outputs": []
    },
    {
      "cell_type": "code",
      "source": [],
      "metadata": {
        "id": "ZHPnjYdndc9b"
      },
      "execution_count": null,
      "outputs": []
    },
    {
      "cell_type": "code",
      "source": [
        "print(\"we1:\", we1['ts'].min(), \"to\", we1['ts'].max())\n",
        "print(\"weather:\", weather['ts'].min(), \"to\", weather['ts'].max())"
      ],
      "metadata": {
        "id": "aEXELnp8eKxQ"
      },
      "execution_count": null,
      "outputs": []
    },
    {
      "cell_type": "code",
      "source": [
        "merged_df.to_csv('merged_data.csv', index=False)"
      ],
      "metadata": {
        "id": "R_vYTPpLefVq"
      },
      "execution_count": null,
      "outputs": []
    },
    {
      "cell_type": "markdown",
      "source": [
        "연쇄 예측 모델링을 진행하기로 함"
      ],
      "metadata": {
        "id": "4Wf1-uehkxyC"
      }
    },
    {
      "cell_type": "code",
      "source": [
        "from sklearn.ensemble import RandomForestRegressor\n",
        "from sklearn.model_selection import train_test_split\n",
        "from sklearn.metrics import mean_absolute_error\n",
        "import numpy as np\n",
        "\n",
        "# 모든 변수를 포함한 데이터셋 설정\n",
        "X = merged_df.drop(columns=['하루전가격(원/kWh)', 'ts'])  # ts와 목표 변수는 제외\n",
        "y = merged_df['하루전가격(원/kWh)']\n",
        "\n",
        "# 학습 및 테스트 데이터 분할\n",
        "X_train, X_test, y_train, y_test = train_test_split(X, y, test_size=0.2, random_state=42, shuffle=False)\n",
        "\n",
        "# 모델 학습\n",
        "model = RandomForestRegressor(random_state=42)\n",
        "model.fit(X_train, y_train)\n",
        "\n",
        "# 예측 및 평가\n",
        "y_pred = model.predict(X_test)\n",
        "mae = mean_absolute_error(y_test, y_pred)\n",
        "print(f'Mean Absolute Error: {mae}')\n",
        "\n",
        "# 변수 중요도 시각화\n",
        "import matplotlib.pyplot as plt\n",
        "importances = model.feature_importances_\n",
        "indices = np.argsort(importances)[::-1]\n",
        "features = X.columns\n",
        "\n",
        "plt.figure(figsize=(12, 8))\n",
        "plt.title(\"Feature Importance\")\n",
        "plt.barh(range(len(indices)), importances[indices], align=\"center\")\n",
        "plt.yticks(range(len(indices)), [features[i] for i in indices])\n",
        "plt.gca().invert_yaxis()\n",
        "plt.show()\n"
      ],
      "metadata": {
        "id": "mywdVsrlizEI"
      },
      "execution_count": null,
      "outputs": []
    },
    {
      "cell_type": "markdown",
      "source": [
        "가장 중요한 10개 변수만 모아서 최적화"
      ],
      "metadata": {
        "id": "jbhWExrNl_-U"
      }
    },
    {
      "cell_type": "code",
      "source": [
        "import pandas as pd\n",
        "import numpy as np\n",
        "from sklearn.ensemble import RandomForestRegressor\n",
        "from sklearn.model_selection import train_test_split\n",
        "from sklearn.metrics import mean_absolute_error\n",
        "import matplotlib.pyplot as plt\n",
        "\n",
        "# 상위 10개 중요한 변수 선택\n",
        "selected_features = [\n",
        "    '실시간 확정 가격(원/kWh)', 'uv_idx', '실시간 임시 가격(원/kWh)',\n",
        "    '태양광 발전량kW)', 'rel_hum', '신재생 발전량 총합(kW)',\n",
        "    '공급능력(kW)', '현재 수요(kW)', '운영 예비력(kW)', '공급 예비력(kW)'\n",
        "]\n",
        "\n",
        "# X, y 데이터 설정\n",
        "X_selected = merged_df[selected_features]\n",
        "y = merged_df['하루전가격(원/kWh)']\n",
        "\n",
        "# 학습 및 테스트 데이터 분할\n",
        "X_train, X_test, y_train, y_test = train_test_split(X_selected, y, test_size=0.2, random_state=42, shuffle=False)\n",
        "\n",
        "# 모델 학습\n",
        "model = RandomForestRegressor(random_state=42)\n",
        "model.fit(X_train, y_train)\n",
        "\n",
        "# 예측\n",
        "y_pred = model.predict(X_test)\n",
        "\n",
        "# 모델 평가\n",
        "mae = mean_absolute_error(y_test, y_pred)\n",
        "print(f'Mean Absolute Error: {mae}')\n",
        "\n",
        "# 변수 중요도 시각화\n",
        "importances = model.feature_importances_\n",
        "indices = np.argsort(importances)[::-1]\n",
        "\n",
        "plt.figure(figsize=(12, 8))\n",
        "plt.title(\"Feature Importance\")\n",
        "plt.barh(range(len(indices)), importances[indices], align=\"center\")\n",
        "plt.yticks(range(len(indices)), [selected_features[i] for i in indices])\n",
        "plt.gca().invert_yaxis()\n",
        "plt.show()\n"
      ],
      "metadata": {
        "id": "uhr8eJv0lKi5"
      },
      "execution_count": null,
      "outputs": []
    },
    {
      "cell_type": "markdown",
      "source": [
        "# Mean Absolute Error: 8.158567847652792 (영혼까지 뽑아낸 최소)\n",
        "1. 적합한 변수를 찾는 과정을 겪음\n",
        "2. 상위 10개의 데이터를 비교하며 모델의 성능을 저하시키는 요소들을 찾음\n",
        "3. 풍력 발전량까지 추가했을 시 9.99MAE 였음\n",
        "4. 공급 에비력도 전력가격에 큰 영향을 미칠 것 같아 넣었더니 MAE가 9.6으로 감소함\n",
        "5. 풍력 발전량을 빼니 MAE가 9.18로 감소하는 것을 볼때 풍력 발전량은 모델의 성능을 저하시키는 요소로 볼 수 있음\n",
        "6. pressure을 제외했을 시 MAE가 8.67로 낮아지는 것을 볼때 모델의 성능을 저하시키는 요소 중 하나라고 볼 수 있다.\n",
        "7. wind_spd 제거했을 시 8.17로 낮아졌다.\n",
        "8. 아니 이정도면 필요있는게 더 적은듯"
      ],
      "metadata": {
        "id": "t-_4KuGAnvlN"
      }
    },
    {
      "cell_type": "markdown",
      "source": [
        "생존자들 : '실시간 확정 가격(원/kWh)', 'uv_idx', '실시간 임시 가격(원/kWh)',\n",
        "    '태양광 발전량kW)', 'rel_hum', '신재생 발전량 총합(kW)',\n",
        "    '공급능력(kW)', '현재 수요(kW)', '운영 예비력(kW)', '공급 예비력(kW)'"
      ],
      "metadata": {
        "id": "AhQVTkEfqEt6"
      }
    },
    {
      "cell_type": "markdown",
      "source": [
        "# 이제 하이퍼파라미터 찾아야함"
      ],
      "metadata": {
        "id": "ItEuUHZfqxmZ"
      }
    },
    {
      "cell_type": "code",
      "source": [
        "# Grid Search(그리디 알고리즘으로...)\n",
        "from sklearn.ensemble import RandomForestRegressor\n",
        "from sklearn.model_selection import RandomizedSearchCV, train_test_split\n",
        "from sklearn.metrics import mean_absolute_error\n",
        "from scipy.stats import randint\n",
        "import numpy as np\n",
        "\n",
        "# 초기 변수 설정 (가장 중요한 변수 1개로 시작)\n",
        "initial_features = ['실시간 확정 가격(원/kWh)']\n",
        "remaining_features = [\n",
        "    'uv_idx', '실시간 임시 가격(원/kWh)', '태양광 발전량kW)',\n",
        "    'rel_hum', '신재생 발전량 총합(kW)', '공급능력(kW)',\n",
        "    '현재 수요(kW)', '운영 예비력(kW)', '공급 예비력(kW)'\n",
        "]\n",
        "\n",
        "# 초기 데이터 설정\n",
        "X_selected = merged_df[initial_features]\n",
        "y = merged_df['하루전가격(원/kWh)']\n",
        "\n",
        "# 학습 및 테스트 데이터 분할\n",
        "X_train, X_test, y_train, y_test = train_test_split(X_selected, y, test_size=0.2, random_state=42, shuffle=False)\n",
        "\n",
        "# 하이퍼파라미터 분포 정의 (랜덤 탐색용)\n",
        "param_dist = {\n",
        "    'n_estimators': randint(50, 200),\n",
        "    'max_depth': randint(10, 40),\n",
        "    'min_samples_split': randint(2, 10),\n",
        "    'min_samples_leaf': randint(1, 5)\n",
        "}\n",
        "\n",
        "# 그리디 알고리즘으로 변수 추가 및 최적의 파라미터 탐색\n",
        "best_mae = float('inf')\n",
        "best_features = initial_features[:]\n",
        "best_model = None\n",
        "\n",
        "for feature in remaining_features:\n",
        "    print(f\"Testing with feature added: {feature}\")\n",
        "\n",
        "    # 새로운 변수 추가\n",
        "    current_features = best_features + [feature]\n",
        "    X_current = merged_df[current_features]\n",
        "\n",
        "    # 데이터 분할\n",
        "    X_train, X_test, y_train, y_test = train_test_split(X_current, y, test_size=0.2, random_state=42, shuffle=False)\n",
        "\n",
        "    # 랜덤 탐색으로 최적의 하이퍼파라미터 찾기\n",
        "    rf_model = RandomForestRegressor(random_state=42)\n",
        "    random_search = RandomizedSearchCV(rf_model, param_distributions=param_dist, n_iter=10, cv=3, scoring='neg_mean_absolute_error', n_jobs=-1, random_state=42)\n",
        "    random_search.fit(X_train, y_train)\n",
        "\n",
        "    # 현재 변수와 하이퍼파라미터로 예측 및 평가\n",
        "    y_pred = random_search.best_estimator_.predict(X_test)\n",
        "    current_mae = mean_absolute_error(y_test, y_pred)\n",
        "\n",
        "    print(f\"MAE with {current_features}: {current_mae}\")\n",
        "\n",
        "    # 성능이 개선되면 변수와 모델을 업데이트\n",
        "    if current_mae < best_mae:\n",
        "        best_mae = current_mae\n",
        "        best_features = current_features[:]\n",
        "        best_model = random_search.best_estimator_\n",
        "        print(f\"Updated best MAE to {best_mae} with features {best_features}\")\n",
        "    else:\n",
        "        print(f\"No improvement by adding {feature}\")\n",
        "\n",
        "print(\"\\nFinal selected features:\", best_features)\n",
        "print(\"Final MAE:\", best_mae)\n"
      ],
      "metadata": {
        "id": "ud3yIrALmH-5"
      },
      "execution_count": null,
      "outputs": []
    },
    {
      "cell_type": "markdown",
      "source": [
        "1. Testing with feature added: uv_idx\n",
        "MAE with ['실시간 확정 가격(원/kWh)', 'uv_idx']: 7.774934931550669\n",
        "Updated best MAE to 7.774934931550669 with features ['실시간 확정 가격(원/kWh)', 'uv_idx']\n",
        "2. Testing with feature added: 실시간 임시 가격(원/kWh)\n",
        "MAE with ['실시간 확정 가격(원/kWh)', 'uv_idx', '실시간 임시 가격(원/kWh)']: 7.775646356404987\n",
        "No improvement by adding 실시간 임시 가격(원/kWh)\n",
        "3. Testing with feature added: 태양광 발전량kW)\n",
        "MAE with ['실시간 확정 가격(원/kWh)', 'uv_idx', '태양광 발전량kW)']: 8.009933293128702\n",
        "No improvement by adding 태양광 발전량kW)\n",
        "4. Testing with feature added: rel_hum\n",
        "MAE with ['실시간 확정 가격(원/kWh)', 'uv_idx', 'rel_hum']: 7.524851808945004\n",
        "Updated best MAE to 7.524851808945004 with features ['실시간 확정 가격(원/kWh)', 'uv_idx', 'rel_hum']\n",
        "5. Testing with feature added: 신재생 발전량 총합(kW)\n",
        "MAE with ['실시간 확정 가격(원/kWh)', 'uv_idx', 'rel_hum', '신재생 발전량 총합(kW)']: 9.153921741870484\n",
        "No improvement by adding 신재생 발전량 총합(kW)\n",
        "6. Testing with feature added: 공급능력(kW)\n",
        "MAE with ['실시간 확정 가격(원/kWh)', 'uv_idx', 'rel_hum', '공급능력(kW)']: 8.52696460751635\n",
        "No improvement by adding 공급능력(kW)\n",
        "7. Testing with feature added: 현재 수요(kW)\n",
        "MAE with ['실시간 확정 가격(원/kWh)', 'uv_idx', 'rel_hum', '현재 수요(kW)']: 7.0545927633871175\n",
        "Updated best MAE to 7.0545927633871175 with features ['실시간 확정 가격(원/kWh)', 'uv_idx', 'rel_hum', '현재 수요(kW)']\n",
        "8. Testing with feature added: 운영 예비력(kW)\n",
        "MAE with ['실시간 확정 가격(원/kWh)', 'uv_idx', 'rel_hum', '현재 수요(kW)', '운영 예비력(kW)']: 7.288205133064076\n",
        "No improvement by adding 운영 예비력(kW)\n",
        "9. Testing with feature added: 공급 예비력(kW)\n",
        "MAE with ['실시간 확정 가격(원/kWh)', 'uv_idx', 'rel_hum', '현재 수요(kW)', '공급 예비력(kW)']: 7.2756687118334415\n",
        "No improvement by adding 공급 예비력(kW)\n",
        "\n",
        "Final selected features: ['실시간 확정 가격(원/kWh)', 'uv_idx', 'rel_hum', '현재 수요(kW)']\n",
        "Final MAE: 7.0545927633871175\n",
        "\n"
      ],
      "metadata": {
        "id": "WztO0Sq1tLWt"
      }
    },
    {
      "cell_type": "code",
      "source": [
        "import pandas as pd\n",
        "import numpy as np\n",
        "from sklearn.ensemble import RandomForestRegressor\n",
        "from sklearn.model_selection import train_test_split\n",
        "from sklearn.metrics import mean_absolute_error\n",
        "import matplotlib.pyplot as plt\n",
        "\n",
        "# 최종 선택된 변수\n",
        "final_features = ['실시간 확정 가격(원/kWh)', 'uv_idx', 'rel_hum', '현재 수요(kW)']\n",
        "\n",
        "# X, y 데이터 설정\n",
        "X_final = merged_df[final_features]\n",
        "y = merged_df['하루전가격(원/kWh)']\n",
        "\n",
        "# 학습 및 테스트 데이터 분할 (시간 순서 유지)\n",
        "X_train, X_test, y_train, y_test = train_test_split(X_final, y, test_size=0.2, random_state=42, shuffle=False)\n",
        "\n",
        "# 모델 학습 (RandomForestRegressor)\n",
        "final_model = RandomForestRegressor(random_state=42, n_estimators=100, max_depth=10)\n",
        "final_model.fit(X_train, y_train)\n",
        "\n",
        "# 예측\n",
        "y_pred = final_model.predict(X_test)\n",
        "\n",
        "# 모델 평가\n",
        "mae = mean_absolute_error(y_test, y_pred)\n",
        "print(f'Final Model Mean Absolute Error: {mae}')\n",
        "\n",
        "# 변수 중요도 시각화\n",
        "importances = final_model.feature_importances_\n",
        "indices = np.argsort(importances)[::-1]\n",
        "\n",
        "plt.figure(figsize=(10, 6))\n",
        "plt.title(\"Feature Importance in Final Model\")\n",
        "plt.barh(range(len(indices)), importances[indices], align=\"center\")\n",
        "plt.yticks(range(len(indices)), [final_features[i] for i in indices])\n",
        "plt.gca().invert_yaxis()\n",
        "plt.show()\n"
      ],
      "metadata": {
        "id": "jK9caXKarGpw"
      },
      "execution_count": null,
      "outputs": []
    },
    {
      "cell_type": "code",
      "source": [
        "import numpy as np\n",
        "from sklearn.ensemble import RandomForestRegressor\n",
        "from sklearn.model_selection import train_test_split\n",
        "from sklearn.metrics import mean_absolute_error\n",
        "import matplotlib.pyplot as plt\n",
        "\n",
        "# 최종 선택된 변수\n",
        "final_features = ['uv_idx', '실시간 임시 가격(원/kWh)', '태양광 발전량kW)',\n",
        "    'rel_hum', '신재생 발전량 총합(kW)', '공급능력(kW)',\n",
        "    '현재 수요(kW)', '운영 예비력(kW)', '공급 예비력(kW)']\n",
        "\n",
        "# X, y 데이터 설정\n",
        "X_final = merged_df[final_features]\n",
        "y = merged_df['하루전가격(원/kWh)']\n",
        "\n",
        "# 학습 및 테스트 데이터 분할 (시간 순서 유지)\n",
        "X_train, X_test, y_train, y_test = train_test_split(X_final, y, test_size=0.2, random_state=42, shuffle=False)\n",
        "\n",
        "# 모델 학습 (RandomForestRegressor)\n",
        "final_model = RandomForestRegressor(random_state=42, n_estimators=50, max_depth=5, min_samples_split=10)\n",
        "final_model.fit(X_train, y_train)\n",
        "\n",
        "# 테스트 데이터 예측\n",
        "y_pred = final_model.predict(X_test)\n",
        "\n",
        "# calculate_measure 함수 정의 (사용자 제공 코드 사용)\n",
        "def calculate_measure(actual, forecast):\n",
        "    actual = np.array(actual)\n",
        "    forecast = np.array(forecast)\n",
        "\n",
        "    positive_index = actual > 0\n",
        "    negative_index = actual <= 0\n",
        "\n",
        "    # Number of positive and negative prices\n",
        "    n1 = np.sum(positive_index) + 1e-7\n",
        "    n2 = np.sum(negative_index) + 1e-7\n",
        "\n",
        "    # e1: Positive price forecast error rate\n",
        "    e1 = (\n",
        "        np.sum(\n",
        "            np.abs(actual[positive_index] - forecast[positive_index])\n",
        "            / np.abs(actual[positive_index])\n",
        "        )\n",
        "        / n1\n",
        "    )\n",
        "\n",
        "    # e2: Negative price prediction error rate\n",
        "    e2 = (\n",
        "        np.sum(\n",
        "            np.abs(actual[negative_index] - forecast[negative_index])\n",
        "            / np.abs(forecast[negative_index])\n",
        "        )\n",
        "        / n2\n",
        "    )\n",
        "\n",
        "    TP = np.sum((forecast > 0) & (actual > 0))\n",
        "    TN = np.sum((forecast <= 0) & (actual <= 0))\n",
        "    FP = np.sum((forecast > 0) & (actual <= 0))\n",
        "    FN = np.sum((forecast <= 0) & (actual > 0))\n",
        "\n",
        "    # Accuracy calculation\n",
        "    Accuracy = (TP + TN) / (TP + TN + FP + FN)\n",
        "    print(f'Accuracy: {Accuracy}')\n",
        "    print(f'e1: {e1}, e2: {e2}')\n",
        "\n",
        "    e_F = 0.2 * e1 + 0.8 * e2 - (Accuracy - 0.95)\n",
        "\n",
        "    return e_F\n",
        "\n",
        "# 성능 평가\n",
        "e_F = calculate_measure(y_test, y_pred)\n",
        "print(f\"Final Error Measure (e_F): {e_F}\")\n"
      ],
      "metadata": {
        "id": "MovcZH6stkDL"
      },
      "execution_count": null,
      "outputs": []
    },
    {
      "cell_type": "markdown",
      "source": [
        "Accuracy: 0.9991142604074402\n",
        "e1: 0.050147406610686895, e2: 0.9999999000000099\n",
        "Final Error Measure (e_F): 0.7609151409147051\n",
        "### 과적합 ㄷㄷ"
      ],
      "metadata": {
        "id": "EaQ6EXi5ucvg"
      }
    },
    {
      "cell_type": "code",
      "source": [
        "from sklearn.ensemble import RandomForestRegressor\n",
        "from sklearn.model_selection import RandomizedSearchCV\n",
        "from scipy.stats import randint\n",
        "\n",
        "# Random Forest 하이퍼파라미터 분포 정의\n",
        "param_dist = {\n",
        "    'n_estimators': randint(50, 200),          # 트리 개수 범위\n",
        "    'max_depth': randint(5, 20),               # 최대 깊이 범위\n",
        "    'min_samples_split': randint(2, 20),       # 분할하기 위한 최소 샘플 수 범위\n",
        "    'min_samples_leaf': randint(1, 10),        # 리프 노드의 최소 샘플 수 범위\n",
        "    'max_features': ['auto', 'sqrt', 'log2']   # 최대 피처 개수\n",
        "}\n",
        "\n",
        "# RandomizedSearchCV 설정\n",
        "rf_model = RandomForestRegressor(random_state=42)\n",
        "random_search = RandomizedSearchCV(\n",
        "    estimator=rf_model,\n",
        "    param_distributions=param_dist,\n",
        "    n_iter=50,                        # 시도할 조합 개수\n",
        "    cv=5,                             # 교차 검증 folds\n",
        "    scoring='neg_mean_absolute_error', # MAE를 기준으로 최적화\n",
        "    n_jobs=-1,                        # 병렬 처리\n",
        "    random_state=42\n",
        ")\n",
        "\n",
        "# Randomized Search로 최적의 하이퍼파라미터 찾기\n",
        "random_search.fit(X_train, y_train)\n",
        "\n",
        "# 최적의 하이퍼파라미터 및 성능 출력\n",
        "print(\"Best Parameters from Randomized Search:\", random_search.best_params_)\n",
        "print(\"Best MAE from Randomized Search:\", -random_search.best_score_)\n"
      ],
      "metadata": {
        "id": "qtCrT6lruRNI"
      },
      "execution_count": null,
      "outputs": []
    },
    {
      "cell_type": "markdown",
      "source": [
        "Best Parameters from Randomized Search: {'max_depth': 16, 'max_features': 'sqrt', 'min_samples_leaf': 7, 'min_samples_split': 8, 'n_estimators': 178}\n",
        "Best MAE from Randomized Search: 17.168352347470535"
      ],
      "metadata": {
        "id": "sUuVs3BNwAMv"
      }
    },
    {
      "cell_type": "code",
      "source": [],
      "metadata": {
        "id": "MG_t2uFZvDHM"
      },
      "execution_count": null,
      "outputs": []
    }
  ]
}