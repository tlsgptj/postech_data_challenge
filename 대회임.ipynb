{
  "nbformat": 4,
  "nbformat_minor": 0,
  "metadata": {
    "colab": {
      "private_outputs": true,
      "provenance": [],
      "gpuType": "T4",
      "include_colab_link": true
    },
    "kernelspec": {
      "name": "python3",
      "display_name": "Python 3"
    },
    "language_info": {
      "name": "python"
    },
    "accelerator": "GPU"
  },
  "cells": [
    {
      "cell_type": "markdown",
      "metadata": {
        "id": "view-in-github",
        "colab_type": "text"
      },
      "source": [
        "<a href=\"https://colab.research.google.com/github/tlsgptj/postech_data_challenge/blob/main/%EB%8C%80%ED%9A%8C%EC%9E%84.ipynb\" target=\"_parent\"><img src=\"https://colab.research.google.com/assets/colab-badge.svg\" alt=\"Open In Colab\"/></a>"
      ]
    },
    {
      "cell_type": "code",
      "source": [
        "import pandas as pd\n",
        "import numpy as np\n",
        "\n",
        "df1 = pd.read_csv(\"/content/기상실측데이터_1.csv\")\n",
        "df2 = pd.read_csv(\"/content/기상실측데이터_2.csv\")"
      ],
      "metadata": {
        "id": "P9OLK2y2vYUc"
      },
      "execution_count": null,
      "outputs": []
    },
    {
      "cell_type": "code",
      "source": [
        "df1.head()"
      ],
      "metadata": {
        "id": "8DED9atgv9bM"
      },
      "execution_count": null,
      "outputs": []
    },
    {
      "cell_type": "code",
      "source": [
        "df2.head()"
      ],
      "metadata": {
        "id": "e0c-K0PfwAvn"
      },
      "execution_count": null,
      "outputs": []
    },
    {
      "cell_type": "code",
      "source": [
        "import pandas as pd\n",
        "\n",
        "# 데이터프레임의 모든 object 타입 열을 int 타입으로 변환하는 함수\n",
        "def convert_object_to_int(df):\n",
        "    for col in df.select_dtypes(include=['object']).columns:\n",
        "        # pd.to_numeric으로 숫자로 변환 (변환할 수 없는 값은 NaN으로 처리)\n",
        "        df[col] = pd.to_numeric(df[col], errors='coerce')\n",
        "        # NaN 값을 0이나 다른 적절한 값으로 대체한 후 int로 변환\n",
        "        df[col] = df[col].fillna(0).astype(int)\n",
        "    return df\n",
        "\n",
        "# df1과 df2에 적용\n",
        "df1 = convert_object_to_int(df1)\n",
        "df2 = convert_object_to_int(df2)\n",
        "\n",
        "# 변환 후 결과 확인\n",
        "print(df1.dtypes)\n",
        "print(df2.dtypes)"
      ],
      "metadata": {
        "id": "oCTuAjazzh72"
      },
      "execution_count": null,
      "outputs": []
    },
    {
      "cell_type": "code",
      "source": [
        "df1.describe()"
      ],
      "metadata": {
        "id": "9SrTSx0FwEei"
      },
      "execution_count": null,
      "outputs": []
    },
    {
      "cell_type": "code",
      "source": [
        "df2.describe()"
      ],
      "metadata": {
        "id": "Xg_UxCYKwIPl"
      },
      "execution_count": null,
      "outputs": []
    },
    {
      "cell_type": "code",
      "source": [
        "df1 = df1.drop('location', axis=1)"
      ],
      "metadata": {
        "id": "nO5BfB5OwpXa"
      },
      "execution_count": null,
      "outputs": []
    },
    {
      "cell_type": "code",
      "source": [
        "df1 = df1.drop('ts', axis=1)"
      ],
      "metadata": {
        "id": "TqIJxWvMxFap"
      },
      "execution_count": null,
      "outputs": []
    },
    {
      "cell_type": "code",
      "source": [
        "df2 = df2.drop(['ts', 'location'], axis=1)"
      ],
      "metadata": {
        "id": "DjS3HLQgxK14"
      },
      "execution_count": null,
      "outputs": []
    },
    {
      "cell_type": "code",
      "source": [
        "df1.info()"
      ],
      "metadata": {
        "id": "52QsV6BwxbGi"
      },
      "execution_count": null,
      "outputs": []
    },
    {
      "cell_type": "code",
      "source": [
        "df2.info()"
      ],
      "metadata": {
        "id": "2u4CL6lR02sp"
      },
      "execution_count": null,
      "outputs": []
    },
    {
      "cell_type": "code",
      "source": [
        "import pandas as pd\n",
        "import seaborn as sns\n",
        "import matplotlib.pyplot as plt\n",
        "\n",
        "# Check if df2 contains any numeric columns before proceeding\n",
        "if len(df2.select_dtypes(include=['number']).columns) > 0:\n",
        "    # 숫자형으로 변환할 수 없는 컬럼 제외\n",
        "    numeric_df = df2.select_dtypes(include=['number'])\n",
        "\n",
        "    # 히트맵 그리기\n",
        "    plt.figure(figsize=(12, 10))  # 히트맵 크기 조절\n",
        "    sns.heatmap(numeric_df.corr(), annot=True, cmap='coolwarm', fmt=\".2f\")\n",
        "    plt.title('Correlation Heatmap')\n",
        "    plt.show()\n",
        "else:\n",
        "    print(\"df2 does not contain any numeric columns to create a correlation heatmap.\")"
      ],
      "metadata": {
        "id": "NrjVQMoLkFA0"
      },
      "execution_count": null,
      "outputs": []
    },
    {
      "cell_type": "code",
      "source": [
        "import pandas as pd\n",
        "import seaborn as sns\n",
        "import matplotlib.pyplot as plt\n",
        "\n",
        "if len(df1.select_dtypes(include=['number']).columns) > 0:\n",
        "    numeric_df = df2.select_dtypes(include=['number'])\n",
        "\n",
        "    plt.figure(figsize=(12, 10))\n",
        "    sns.heatmap(numeric_df.corr(), annot=True, cmap='coolwarm', fmt=\".2f\")\n",
        "    plt.title('Correlation Heatmap')\n",
        "    plt.show()\n",
        "else:\n",
        "    print(\"df2 does not contain any numeric columns to create a correlation heatmap.\")"
      ],
      "metadata": {
        "id": "mS7dV_Uhx8N_"
      },
      "execution_count": null,
      "outputs": []
    },
    {
      "cell_type": "code",
      "source": [
        "import matplotlib.pyplot as plt\n",
        "import seaborn as sns\n",
        "\n",
        "# temp와 temp_max 간의 산점도\n",
        "plt.figure(figsize=(8, 6))\n",
        "sns.scatterplot(data=df2, x='temp', y='temp_min')\n",
        "plt.title('Scatter Plot between temp and temp_max')\n",
        "plt.xlabel('temp')\n",
        "plt.ylabel('temp_max')\n",
        "plt.show()"
      ],
      "metadata": {
        "id": "BNs-qNpO0Lux"
      },
      "execution_count": null,
      "outputs": []
    },
    {
      "cell_type": "code",
      "source": [
        "# humidity의 히스토그램\n",
        "plt.figure(figsize=(8, 6))\n",
        "sns.histplot(df2['humidity'])\n",
        "plt.title('Humidity Distribution')\n",
        "plt.xlabel('Humidity')\n",
        "plt.ylabel('Frequency')\n",
        "plt.show()\n",
        "\n",
        "# wind_speed의 히스토그램\n",
        "plt.figure(figsize=(8, 6))\n",
        "sns.histplot(df2['wind_speed'])\n",
        "plt.title('Wind Speed Distribution')\n",
        "plt.xlabel('Wind Speed')\n",
        "plt.ylabel('Frequency')\n",
        "plt.show()"
      ],
      "metadata": {
        "id": "JalXLFLv0OLI"
      },
      "execution_count": null,
      "outputs": []
    },
    {
      "cell_type": "code",
      "source": [
        "# 주요 변수들만 선택하여 pairplot 생성\n",
        "selected_columns = ['temp', 'temp_max', 'temp_min', 'humidity', 'ground_press']\n",
        "sns.pairplot(df2[selected_columns])\n",
        "plt.suptitle('Pair Plot of Selected Variables', y=1.02)\n",
        "plt.show()"
      ],
      "metadata": {
        "id": "5nnyErSD0faE"
      },
      "execution_count": null,
      "outputs": []
    },
    {
      "cell_type": "markdown",
      "source": [
        "###가설 검증\n",
        "##기상 환경에 따라 신재생 발전량의 총합은 달라질 것이다. 총합에 따라 가격이 달라질 것이다. => TS를 기준으로 데이터 통합해보기\n"
      ],
      "metadata": {
        "id": "wjyZ77Y1AVoU"
      }
    },
    {
      "cell_type": "code",
      "source": [
        "import pandas as pd\n",
        "import matplotlib.pyplot as plt\n",
        "import numpy as np"
      ],
      "metadata": {
        "id": "NwdT6RA5ATtG"
      },
      "execution_count": null,
      "outputs": []
    },
    {
      "cell_type": "code",
      "source": [
        "real_1 = pd.read_csv(\"/content/기상실측데이터_1.csv\")\n",
        "real_2 = pd.read_csv(\"/content/기상실측데이터_2.csv\")\n",
        "pre_1 = pd.read_csv(\"/content/기상예측데이터_1.csv\")\n",
        "pre_2 = pd.read_csv(\"/content/기상예측데이터_2.csv\")\n",
        "electric_time = pd.read_csv(\"/content/제주전력시장_시장전기가격_실시간가격.csv\")\n",
        "electric_day = pd.read_csv(\"/content/제주전력시장_시장전기가격_하루전가격.csv\")\n",
        "preview = pd.read_csv(\"/content/제주전력시장_현황데이터.csv\")"
      ],
      "metadata": {
        "id": "gCoxcvkSLpTr"
      },
      "execution_count": null,
      "outputs": []
    },
    {
      "cell_type": "code",
      "source": [
        "real_1.info()"
      ],
      "metadata": {
        "id": "EIV6nXQRNMoP"
      },
      "execution_count": null,
      "outputs": []
    },
    {
      "cell_type": "code",
      "source": [
        "import pandas as pd\n",
        "\n",
        "def convert_object_to_int(real_1):\n",
        "    for col in real_1.select_dtypes(include=['object']).columns:\n",
        "        # pd.to_numeric으로 숫자로 변환 (변환할 수 없는 값은 NaN으로 처리)\n",
        "        real_1[col] = pd.to_numeric(real_1[col], errors='coerce')\n",
        "\n",
        "        # NaN 값을 0으로 채우고, float를 먼저 int로 변환 가능하도록 round 처리\n",
        "        real_1[col] = real_1[col].fillna(0).round().astype(int)\n",
        "\n",
        "    return real_1"
      ],
      "metadata": {
        "id": "2iw-MedXNdBU"
      },
      "execution_count": null,
      "outputs": []
    },
    {
      "cell_type": "code",
      "source": [
        "real_1.info()"
      ],
      "metadata": {
        "id": "SZaHVMFZPrgZ"
      },
      "execution_count": null,
      "outputs": []
    },
    {
      "cell_type": "code",
      "source": [
        "#object를 int로 다시 변환...\n",
        "def convert_object_to_int(real_2):\n",
        "    for col in real_2.select_dtypes(include=['object']).columns:\n",
        "        # pd.to_numeric으로 숫자로 변환 (변환할 수 없는 값은 NaN으로 처리)\n",
        "        real_2[col] = pd.to_numeric(real_2[col], errors='coerce')\n",
        "        # NaN 값을 0이나 다른 적절한 값으로 대체한 후 int로 변환\n",
        "        real_2[col] = real_2[col].fillna(0).astype(int)\n",
        "    return real_2"
      ],
      "metadata": {
        "id": "Sm3_FakINv07"
      },
      "execution_count": null,
      "outputs": []
    },
    {
      "cell_type": "code",
      "source": [
        "#object를 int로 다시 변환...\n",
        "def convert_object_to_int(pre_1):\n",
        "    for col in pre_1.select_dtypes(include=['object']).columns:\n",
        "        # pd.to_numeric으로 숫자로 변환 (변환할 수 없는 값은 NaN으로 처리)\n",
        "        pre_1[col] = pd.to_numeric(pre_1[col], errors='coerce')\n",
        "        # NaN 값을 0이나 다른 적절한 값으로 대체한 후 int로 변환\n",
        "        pre_1[col] = pre_1[col].fillna(0).astype(int)\n",
        "    return pre_1"
      ],
      "metadata": {
        "id": "pJ8aXu69OBoT"
      },
      "execution_count": null,
      "outputs": []
    },
    {
      "cell_type": "code",
      "source": [
        "#object를 int로 다시 변환...\n",
        "def convert_object_to_int(pre_2):\n",
        "    for col in pre_2.select_dtypes(include=['object']).columns:\n",
        "        # pd.to_numeric으로 숫자로 변환 (변환할 수 없는 값은 NaN으로 처리)\n",
        "        pre_2[col] = pd.to_numeric(pre_2[col], errors='coerce')\n",
        "        # NaN 값을 0이나 다른 적절한 값으로 대체한 후 int로 변환\n",
        "        pre_2[col] = pre_2[col].fillna(0).astype(int)\n",
        "    return pre_2"
      ],
      "metadata": {
        "id": "_7ZMjb93OMeZ"
      },
      "execution_count": null,
      "outputs": []
    },
    {
      "cell_type": "code",
      "source": [
        "#object를 int로 다시 변환...\n",
        "def convert_object_to_int(electric_time):\n",
        "    for col in electric_time.select_dtypes(include=['object']).columns:\n",
        "        # pd.to_numeric으로 숫자로 변환 (변환할 수 없는 값은 NaN으로 처리)\n",
        "        electric_time[col] = pd.to_numeric(electric_time[col], errors='coerce')\n",
        "        # NaN 값을 0이나 다른 적절한 값으로 대체한 후 int로 변환\n",
        "        electric_time[col] = electric_time[col].fillna(0).astype(int)\n",
        "    return electric_time"
      ],
      "metadata": {
        "id": "MmkR2w8pOY2v"
      },
      "execution_count": null,
      "outputs": []
    },
    {
      "cell_type": "code",
      "source": [
        "#object를 int로 다시 변환...\n",
        "def convert_object_to_int(electric_day):\n",
        "    for col in electric_day.select_dtypes(include=['object']).columns:\n",
        "        # pd.to_numeric으로 숫자로 변환 (변환할 수 없는 값은 NaN으로 처리)\n",
        "        electric_day[col] = pd.to_numeric(electric_day[col], errors='coerce')\n",
        "        # NaN 값을 0이나 다른 적절한 값으로 대체한 후 int로 변환\n",
        "        electric_day[col] = electric_day[col].fillna(0).astype(int)\n",
        "    return electric_day"
      ],
      "metadata": {
        "id": "rIsnS3psOjCQ"
      },
      "execution_count": null,
      "outputs": []
    },
    {
      "cell_type": "code",
      "source": [
        "#object를 int로 다시 변환...\n",
        "def convert_object_to_int(preview):\n",
        "    for col in preview.select_dtypes(include=['object']).columns:\n",
        "        # pd.to_numeric으로 숫자로 변환 (변환할 수 없는 값은 NaN으로 처리)\n",
        "        preview[col] = pd.to_numeric(preview[col], errors='coerce')\n",
        "        # NaN 값을 0이나 다른 적절한 값으로 대체한 후 int로 변환\n",
        "        preview[col] = preview[col].fillna(0).astype(int)\n",
        "    return preview"
      ],
      "metadata": {
        "id": "kwwhwPXkOv54"
      },
      "execution_count": null,
      "outputs": []
    },
    {
      "cell_type": "code",
      "source": [
        "real_1.info()\n",
        "real_2.info()\n",
        "pre_1.info()\n",
        "pre_2.info()\n",
        "electric_time.info()\n",
        "electric_day.info()\n",
        "preview.info()"
      ],
      "metadata": {
        "id": "xdJVFs7APPpG"
      },
      "execution_count": null,
      "outputs": []
    },
    {
      "cell_type": "code",
      "source": [
        "import matplotlib.pyplot as plt\n",
        "\n",
        "# 열 이름과 데이터 확인\n",
        "print(preview.columns)\n",
        "print(preview[['공급 예비력(kW)', '운영 예비력(kW)']].head())\n",
        "\n",
        "# 그래프 그리기\n",
        "plt.plot(preview['공급 예비력(kW)'], label='Supply Capacity')\n",
        "plt.plot(preview['운영 예비력(kW)'], label='Operation Capacity')\n",
        "plt.xlabel('Data Point')  # x축 레이블\n",
        "plt.ylabel('Capacity (kW)')\n",
        "plt.title('Supply and Operation Capacity Over Time')\n",
        "plt.legend()\n",
        "plt.show()\n"
      ],
      "metadata": {
        "id": "6pi7kByJLBuC"
      },
      "execution_count": null,
      "outputs": []
    },
    {
      "cell_type": "code",
      "source": [
        "import pandas as pd\n",
        "\n",
        "# 'ts' 열을 일치된 형식으로 변환 (int64)\n",
        "electric_time['ts'] = pd.to_numeric(electric_time['ts'], errors='coerce').astype('Int64')\n",
        "real_1['ts'] = pd.to_numeric(real_1['ts'], errors='coerce').astype('Int64')\n",
        "preview['ts'] = pd.to_numeric(preview['ts'], errors='coerce').astype('Int64')\n",
        "\n",
        "# 먼저 electric_time과 real_1을 병합한 후, preview와 병합\n",
        "merged_data = pd.merge(electric_time, real_1, on='ts', how='inner')\n",
        "merged_data = pd.merge(merged_data, preview[['ts', '신재생 발전량 총합(kW)']], on='ts', how='left')\n",
        "\n",
        "# 결과 확인\n",
        "print(merged_data.head())\n"
      ],
      "metadata": {
        "id": "txlse6M4WyNk"
      },
      "execution_count": null,
      "outputs": []
    },
    {
      "cell_type": "code",
      "source": [
        "print(merged_data.head())"
      ],
      "metadata": {
        "id": "nvsZQmqXXjW1"
      },
      "execution_count": null,
      "outputs": []
    },
    {
      "cell_type": "markdown",
      "source": [
        "###기상 조건이 신재생 에너지 발전량에 영향을 미치는가?\n"
      ],
      "metadata": {
        "id": "FyLHqa16XxEi"
      }
    },
    {
      "cell_type": "code",
      "source": [
        "import matplotlib.pyplot as plt\n",
        "\n",
        "plt.figure(figsize=(10, 6))\n",
        "#plt.bar(merged_data['temp'], merged_data['신재생 발전량 총합(kW)'], label='Temperature vs Renewable Energy', alpha=0.5)\n",
        "plt.scatter(merged_data['wind_spd'], merged_data['신재생 발전량 총합(kW)'], label='Wind Speed vs Renewable Energy', alpha=0.5, color='orange')\n",
        "plt.xlabel('Temperature / Wind Speed')\n",
        "plt.ylabel('Renewable Energy Total (kW)')\n",
        "plt.title('Impact of Temperature and Wind Speed on Renewable Energy Generation')\n",
        "plt.legend()\n",
        "plt.show()\n"
      ],
      "metadata": {
        "id": "ijcAxbyyXwMu"
      },
      "execution_count": null,
      "outputs": []
    },
    {
      "cell_type": "markdown",
      "source": [
        "###신재생 에너지 발전량이 전력 가격에 영향을 미치는가?\n"
      ],
      "metadata": {
        "id": "NMfzzPoNZKNS"
      }
    },
    {
      "cell_type": "code",
      "source": [
        "import matplotlib.pyplot as plt\n",
        "\n",
        "plt.figure(figsize=(10, 6))\n",
        "plt.scatter(merged_data['실시간 확정 가격(원/kWh)'], merged_data['신재생 발전량 총합(kW)'], label='Wind Speed vs Renewable Energy', alpha=0.5, color='orange')\n",
        "plt.xlabel('Temperature / Wind Speed')\n",
        "plt.ylabel('Renewable Energy Total (kW)')\n",
        "plt.title('Impact of Temperature and Wind Speed on Renewable Energy Generation')\n",
        "plt.legend()\n",
        "plt.show()"
      ],
      "metadata": {
        "id": "OutGESZ9ZJ8M"
      },
      "execution_count": null,
      "outputs": []
    },
    {
      "cell_type": "code",
      "source": [
        "print(merged_data[merged_data['실시간 확정 가격(원/kWh)'] < 0])"
      ],
      "metadata": {
        "id": "eokP2FFPZJZj"
      },
      "execution_count": null,
      "outputs": []
    },
    {
      "cell_type": "markdown",
      "source": [
        "###전력 수요가 극도로 낮고, 재생 에너지나 다른 에너지원의 공급이 과잉 상태\n"
      ],
      "metadata": {
        "id": "QXW-ynSqfgo_"
      }
    },
    {
      "cell_type": "markdown",
      "source": [
        "11/01 데이터 분석 및 결론 도출"
      ],
      "metadata": {
        "id": "PBYWpDThxd95"
      }
    },
    {
      "cell_type": "code",
      "source": [],
      "metadata": {
        "id": "fAy-uRq7xdqq"
      },
      "execution_count": null,
      "outputs": []
    },
    {
      "cell_type": "code",
      "source": [
        "#테스트코드임\n",
        "\n",
        "import numpy as np\n",
        "\n",
        "\n",
        "def calculate_measure(actual, forecast):\n",
        "    actual = np.array(actual)\n",
        "    forecast = np.array(forecast)\n",
        "\n",
        "    positive_index = actual > 0\n",
        "    negative_index = actual <= 0\n",
        "\n",
        "    # Number of positive and negative prices\n",
        "    n1 = np.sum(positive_index) + 1e-7\n",
        "    n2 = np.sum(negative_index) + 1e-7\n",
        "\n",
        "    # e1: Positive price forecast error rate\n",
        "    e1 = (\n",
        "        np.sum(\n",
        "            np.abs(actual[positive_index] - forecast[positive_index])\n",
        "            / np.abs(actual[positive_index])\n",
        "        )\n",
        "        / n1\n",
        "    )\n",
        "\n",
        "    # e2: Negative price prediction error rate\n",
        "    e2 = (\n",
        "        np.sum(\n",
        "            np.abs(actual[negative_index] - forecast[negative_index])\n",
        "            / np.abs(forecast[negative_index])\n",
        "        )\n",
        "        / n2\n",
        "    )\n",
        "\n",
        "    TP = np.sum((forecast > 0) & (actual > 0))\n",
        "    TN = np.sum((forecast <= 0) & (actual <= 0))\n",
        "    FP = np.sum((forecast > 0) & (actual <= 0))\n",
        "    FN = np.sum((forecast <= 0) & (actual > 0))\n",
        "\n",
        "    # Accuracy calculation\n",
        "    Accuracy = (TP + TN) / (TP + TN + FP + FN)\n",
        "    print(f'Accuracy: {Accuracy}')\n",
        "    print(f'e1: {e1}, e2: {e2}')\n",
        "\n",
        "    e_F = 0.2 * e1 + 0.8 * e2 - (Accuracy - 0.95)\n",
        "\n",
        "    return e_F"
      ],
      "metadata": {
        "id": "1XclD5JOScYu"
      },
      "execution_count": null,
      "outputs": []
    }
  ]
}