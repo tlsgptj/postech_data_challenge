{
  "nbformat": 4,
  "nbformat_minor": 0,
  "metadata": {
    "colab": {
      "private_outputs": true,
      "provenance": [],
      "gpuType": "T4",
      "include_colab_link": true
    },
    "kernelspec": {
      "name": "python3",
      "display_name": "Python 3"
    },
    "language_info": {
      "name": "python"
    },
    "accelerator": "GPU"
  },
  "cells": [
    {
      "cell_type": "markdown",
      "metadata": {
        "id": "view-in-github",
        "colab_type": "text"
      },
      "source": [
        "<a href=\"https://colab.research.google.com/github/tlsgptj/postech_data_challenge/blob/main/%EB%8C%80%ED%9A%8C%EC%9E%84!.ipynb\" target=\"_parent\"><img src=\"https://colab.research.google.com/assets/colab-badge.svg\" alt=\"Open In Colab\"/></a>"
      ]
    },
    {
      "cell_type": "code",
      "execution_count": null,
      "metadata": {
        "id": "n06oXqW5at7X"
      },
      "outputs": [],
      "source": [
        "import pandas as pd\n",
        "import numpy as np\n",
        "import matplotlib.pyplot as plt\n",
        "import seaborn as sns\n",
        "\n",
        "df = pd.read_csv(\"/content/기상실측데이터_1.csv\")\n",
        "df.head()"
      ]
    },
    {
      "cell_type": "code",
      "source": [
        "df1 = pd.read_csv(\"/content/기상실측데이터_2.csv\")\n",
        "df1.head()"
      ],
      "metadata": {
        "id": "nUR7txwVc6cV"
      },
      "execution_count": null,
      "outputs": []
    },
    {
      "cell_type": "code",
      "source": [
        "#변수가 무슨 뜻을 나타내는지\n",
        "df.info()"
      ],
      "metadata": {
        "id": "06v4ejCtdTmE"
      },
      "execution_count": null,
      "outputs": []
    },
    {
      "cell_type": "code",
      "source": [
        "df.describe()"
      ],
      "metadata": {
        "id": "GTAn5p9xfnsh"
      },
      "execution_count": null,
      "outputs": []
    },
    {
      "cell_type": "code",
      "source": [
        "electric = pd.read_csv(\"/content/제주전력시장_시장전기가격_실시간가격.csv\")\n",
        "electric.head()"
      ],
      "metadata": {
        "id": "21wDv1d1fsjE"
      },
      "execution_count": null,
      "outputs": []
    },
    {
      "cell_type": "code",
      "source": [
        "df.isnull().sum()"
      ],
      "metadata": {
        "id": "HHSWVgy9f-Z0"
      },
      "execution_count": null,
      "outputs": []
    },
    {
      "cell_type": "code",
      "source": [
        "electric.isnull().sum()"
      ],
      "metadata": {
        "id": "ouby6KdIh6QU"
      },
      "execution_count": null,
      "outputs": []
    },
    {
      "cell_type": "code",
      "source": [
        "day = pd.read_csv(\"/content/제주전력시장_시장전기가격_실시간가격.csv\")\n",
        "day.head()"
      ],
      "metadata": {
        "id": "rb5YJenTiFVo"
      },
      "execution_count": null,
      "outputs": []
    },
    {
      "cell_type": "code",
      "source": [
        "day.isnull().sum()"
      ],
      "metadata": {
        "id": "GwYVXW7aiLc2"
      },
      "execution_count": null,
      "outputs": []
    },
    {
      "cell_type": "code",
      "source": [
        "#널값은 없다고 데이터 초반에 말해주었어서 필요없을듯"
      ],
      "metadata": {
        "id": "bprW0OtdiPRW"
      },
      "execution_count": null,
      "outputs": []
    },
    {
      "cell_type": "code",
      "source": [
        "#데이터 형식 및 타입 변환 object타입을 int, float로 변환"
      ],
      "metadata": {
        "id": "FwD54RVoicp1"
      },
      "execution_count": null,
      "outputs": []
    },
    {
      "cell_type": "code",
      "source": [
        "# ts와 location 컬럼을 제외한 나머지 컬럼을 모두 float로 변환\n",
        "for col in df.columns:\n",
        "    if col not in ['location', 'ts']:  # location과 ts는 문자열 데이터이므로 제외\n",
        "        df[col] = pd.to_numeric(df[col], errors='coerce')  # 변환 실패 시 NaN으로 처리\n",
        "\n",
        "# 데이터 타입 확인\n",
        "print(df.dtypes)"
      ],
      "metadata": {
        "id": "yMWC-8X_iecZ"
      },
      "execution_count": null,
      "outputs": []
    },
    {
      "cell_type": "code",
      "source": [
        "import pandas as pd\n",
        "import matplotlib.pyplot as plt\n",
        "\n",
        "# 2. IQR 방법을 사용하여 이상치 탐색 및 제거\n",
        "# IQR (Interquartile Range) 계산\n",
        "def remove_outliers(df, column):\n",
        "    Q1 = df[column].quantile(0.25)\n",
        "    Q3 = df[column].quantile(0.75)\n",
        "    IQR = Q3 - Q1\n",
        "    lower_bound = Q1 - 1.5 * IQR\n",
        "    upper_bound = Q3 + 1.5 * IQR\n",
        "    # 이상치가 있는지 확인 및 필터링\n",
        "    outliers = df[(df[column] < lower_bound) | (df[column] > upper_bound)]\n",
        "    print(f\"{column} 컬럼에서 발견된 이상치:\\n\", outliers)\n",
        "\n",
        "    # 이상치를 제외한 데이터프레임 반환\n",
        "    df_no_outliers = df[(df[column] >= lower_bound) & (df[column] <= upper_bound)]\n",
        "    return df_no_outliers\n",
        "\n",
        "# 이상치를 제거한 데이터프레임 생성\n",
        "df_no_outliers = remove_outliers(df, 'temp')\n",
        "df_no_outliers = remove_outliers(df_no_outliers, 'wind_spd')\n",
        "\n",
        "# 결과 확인\n",
        "print(\"\\n이상치 제거 후 데이터프레임:\\n\", df_no_outliers)\n"
      ],
      "metadata": {
        "id": "XMKVXWKUirJF"
      },
      "execution_count": null,
      "outputs": []
    },
    {
      "cell_type": "code",
      "source": [],
      "metadata": {
        "id": "NrjVQMoLkFA0"
      },
      "execution_count": null,
      "outputs": []
    }
  ]
}